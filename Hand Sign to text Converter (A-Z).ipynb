{
 "cells": [
  {
   "cell_type": "markdown",
   "id": "66b714ac",
   "metadata": {},
   "source": [
    "# 1. Importing Libraries"
   ]
  },
  {
   "cell_type": "code",
   "execution_count": 118,
   "id": "03868ff3",
   "metadata": {},
   "outputs": [],
   "source": [
    "import cv2 #opencv\n",
    "import numpy as np\n",
    "import os   #helps with path\n",
    "from matplotlib import pyplot as plt #to use plt.imshow()\n",
    "import time              #to measure time between frames \n",
    "import mediapipe as mp   \n"
   ]
  },
  {
   "cell_type": "markdown",
   "id": "dbf0c2ef",
   "metadata": {},
   "source": [
    "# 2 . drawingutil and hands module"
   ]
  },
  {
   "cell_type": "code",
   "execution_count": 119,
   "id": "3cc7d4a2",
   "metadata": {},
   "outputs": [],
   "source": [
    "mpDraw=mp.solutions.drawing_utils\n",
    "mpHands=mp.solutions.hands"
   ]
  },
  {
   "cell_type": "markdown",
   "id": "20c4d94c",
   "metadata": {},
   "source": [
    "# 3. Function to detect points on hands and then drawing on the hands"
   ]
  },
  {
   "cell_type": "code",
   "execution_count": 120,
   "id": "a9620a72",
   "metadata": {},
   "outputs": [],
   "source": [
    "def mediapipe_detection(image, model):\n",
    "    image = cv2.cvtColor(image, cv2.COLOR_BGR2RGB) # COLOR CONVERSION BGR 2 RGB because by default opencv use bgr but we need rgb for mediapipe to process image\n",
    "    image.flags.writeable = False                  # Image is no longer writeable\n",
    "    results = model.process(image)                 # Make prediction\n",
    "    image.flags.writeable = True                   # Image is now writeable \n",
    "    image = cv2.cvtColor(image, cv2.COLOR_RGB2BGR) # COLOR COVERSION RGB 2 BGR\n",
    "    return image, results"
   ]
  },
  {
   "cell_type": "code",
   "execution_count": 121,
   "id": "064e66e8",
   "metadata": {},
   "outputs": [],
   "source": [
    "def draw_landmarks(image, results):\n",
    "    if results.multi_hand_landmarks:\n",
    "        for num, handsLms in enumerate(results.multi_hand_landmarks):\n",
    "            mpDraw.draw_landmarks(image,handsLms, mpHands.HAND_CONNECTIONS,\n",
    "                             mpDraw.DrawingSpec(color=(121,22,76), thickness=2, circle_radius=4), \n",
    "                             mpDraw.DrawingSpec(color=(121,44,250), thickness=2, circle_radius=2) )"
   ]
  },
  {
   "cell_type": "markdown",
   "id": "79a4c5a4",
   "metadata": {},
   "source": [
    "# 4. function to get handedness ie left or right and to extract point to numpy array"
   ]
  },
  {
   "cell_type": "code",
   "execution_count": 122,
   "id": "300b96df",
   "metadata": {},
   "outputs": [],
   "source": [
    "def get_label(index,results):\n",
    "    label = None\n",
    "    for idx, classification in enumerate(results.multi_handedness):\n",
    "        if classification.classification[0].index == index:\n",
    "            label = classification.classification[0].label\n",
    "#         print(index,idx,label)\n",
    "    if label:\n",
    "        return label\n",
    "    else:\n",
    "        if index == 1:\n",
    "            return get_label(0,results)\n",
    "        elif index == 0:\n",
    "            return get_label(1,results)\n",
    "        else:\n",
    "            return label\n",
    "def extract_keypoints(results):\n",
    "    hands = [np.zeros(21*3),np.zeros(21*3)]\n",
    "    if results.multi_hand_landmarks:\n",
    "        for num, handsLms in enumerate(results.multi_hand_landmarks):\n",
    "            label = get_label(num,results)\n",
    "            if label == 'Right':\n",
    "                hands[0] = np.array([[res.x, res.y, res.z] for res in handsLms.landmark]).flatten()\n",
    "            if label == 'Left':\n",
    "                hands[1] = np.array([[res.x, res.y, res.z] for res in handsLms.landmark]).flatten()\n",
    "            \n",
    "    return np.concatenate(hands)"
   ]
  },
  {
   "cell_type": "markdown",
   "id": "4ceb721f",
   "metadata": {},
   "source": [
    "# 5. Number of videos of dataset and videolength"
   ]
  },
  {
   "cell_type": "code",
   "execution_count": 123,
   "id": "50c63469",
   "metadata": {},
   "outputs": [],
   "source": [
    "# Thirty videos worth of data\n",
    "no_videos = 400\n",
    "\n",
    "# Videos are going to be 15 frames in length\n",
    "video_length = 15"
   ]
  },
  {
   "cell_type": "markdown",
   "id": "2e88b96f",
   "metadata": {},
   "source": [
    "# 6. defining path of dataset and also path where we will store the processed data ie folder Edata in current directory\n",
    "\n",
    "dataset link <a href=\"https://drive.google.com/drive/folders/1RZaXXy3pr7YLSv1jKFXDgmNC2nzkgV1P?usp=sharing\">DATASET<a>"
   ]
  },
  {
   "cell_type": "code",
   "execution_count": 80,
   "id": "7e7d0fe7",
   "metadata": {},
   "outputs": [
    {
     "name": "stdout",
     "output_type": "stream",
     "text": [
      "C:\\Users\\91963\\Desktop\\HandSignRecognition\\DEMO\\newmodel\\AJmodel\n"
     ]
    }
   ],
   "source": [
    "cwd = os.getcwd()\n",
    "print(cwd)"
   ]
  },
  {
   "cell_type": "code",
   "execution_count": 81,
   "id": "8ea7c852",
   "metadata": {},
   "outputs": [
    {
     "data": {
      "text/plain": [
       "['A',\n",
       " 'B',\n",
       " 'C',\n",
       " 'D',\n",
       " 'del',\n",
       " 'E',\n",
       " 'F',\n",
       " 'G',\n",
       " 'H',\n",
       " 'I',\n",
       " 'J',\n",
       " 'K',\n",
       " 'L',\n",
       " 'M',\n",
       " 'N',\n",
       " 'nothing',\n",
       " 'O',\n",
       " 'P',\n",
       " 'Q',\n",
       " 'R',\n",
       " 'S',\n",
       " 'space',\n",
       " 'T',\n",
       " 'U',\n",
       " 'V',\n",
       " 'W',\n",
       " 'X',\n",
       " 'Y',\n",
       " 'Z']"
      ]
     },
     "execution_count": 81,
     "metadata": {},
     "output_type": "execute_result"
    }
   ],
   "source": [
    "datapath = os.path.join('../../KgData/asl4g/train/')\n",
    "os.listdir(datapath)"
   ]
  },
  {
   "cell_type": "code",
   "execution_count": 124,
   "id": "7abcee75",
   "metadata": {},
   "outputs": [],
   "source": [
    "#path for numpy array of data\n",
    "DATA_PATH = os.path.join('AtoZdata')"
   ]
  },
  {
   "cell_type": "code",
   "execution_count": 83,
   "id": "6e55de01",
   "metadata": {},
   "outputs": [
    {
     "data": {
      "text/plain": [
       "['.ipynb_checkpoints',\n",
       " 'board1.jpg',\n",
       " 'HandGestureRecognitionNeuralNetworkA-J.ipynb',\n",
       " 'HandGestureRecognitionNeuralNetworkAllDataButSingleFrame.ipynb',\n",
       " 'model31march.h5']"
      ]
     },
     "execution_count": 83,
     "metadata": {},
     "output_type": "execute_result"
    }
   ],
   "source": [
    "os.listdir(cwd)"
   ]
  },
  {
   "cell_type": "markdown",
   "id": "8ea0d53f",
   "metadata": {},
   "source": [
    "# 7. defining the categories of signs "
   ]
  },
  {
   "cell_type": "code",
   "execution_count": 125,
   "id": "4e4b4ef8",
   "metadata": {},
   "outputs": [],
   "source": [
    "categories = np.array(['A','B','C','D','E','F','G','H','I','J','K','L','M','N','O','P','Q','R','S','T','U','V','W','X','Y','Z','del','space','nothing'])"
   ]
  },
  {
   "cell_type": "markdown",
   "id": "de0284f1",
   "metadata": {},
   "source": [
    "# 8. making directory to store the processed data in EData folder"
   ]
  },
  {
   "cell_type": "code",
   "execution_count": 85,
   "id": "a2e7368a",
   "metadata": {},
   "outputs": [],
   "source": [
    "for category in categories: \n",
    "    for i in range(no_videos):\n",
    "        try: \n",
    "            os.makedirs(os.path.join(DATA_PATH,category, str(i)))\n",
    "        except:\n",
    "            pass"
   ]
  },
  {
   "cell_type": "code",
   "execution_count": 86,
   "id": "81ebae3e",
   "metadata": {},
   "outputs": [],
   "source": [
    "# os.walk('Edata')"
   ]
  },
  {
   "cell_type": "markdown",
   "id": "52bd8211",
   "metadata": {},
   "source": [
    "# 9. checking data is properly fetching  and also the camera feed"
   ]
  },
  {
   "cell_type": "code",
   "execution_count": 87,
   "id": "fb8a64da",
   "metadata": {},
   "outputs": [],
   "source": [
    "for category in categories:\n",
    "    path = os.path.join(datapath,category)\n",
    "    for imgpath in os.listdir(path):\n",
    "        img_array = cv2.imread(os.path.join(path,imgpath))\n",
    "        img_array = cv2.resize(img_array,(480,640))\n",
    "        img_array2 = cv2.flip(img_array,1)\n",
    "        cv2.imshow(\"frame\",img_array)\n",
    "        if cv2.waitKey(10) & 0xFF == ord('q'):\n",
    "                    break\n",
    "cv2.destroyAllWindows()"
   ]
  },
  {
   "cell_type": "code",
   "execution_count": 193,
   "id": "539f65a8",
   "metadata": {},
   "outputs": [],
   "source": [
    "cap = cv2.VideoCapture(0) #creating video capture object\n",
    "## Set mediapipe model\n",
    "\n",
    "while cap.isOpened():\n",
    "    #reading feed current frame\n",
    "    ret,frame = cap.read() \n",
    "    flipframe = cv2.flip(frame,1)\n",
    "    cv2.imshow(\"Open Cv1\",flipframe) \n",
    "#     cv2.imshow('o2',frame)\n",
    "    if cv2.waitKey(1) & 0xFF == ord('q'): #wait for 1 milli second to check if q is pressed on keyboard\n",
    "        break \n",
    "cap.release() #release our webcame\n",
    "cv2.destroyAllWindows()"
   ]
  },
  {
   "cell_type": "markdown",
   "id": "8dd434ab",
   "metadata": {},
   "source": [
    "# 10. Extracting keypoints using extract_keypoint funtion and for every frame   #  for every category we are creating 400 videos and every video contains 15 frames."
   ]
  },
  {
   "cell_type": "code",
   "execution_count": 88,
   "id": "213ba379",
   "metadata": {},
   "outputs": [],
   "source": [
    "with mpHands.Hands() as model:\n",
    "    for category in categories:\n",
    "        path = os.path.join(datapath,category)\n",
    "        adl = os.listdir(path)\n",
    "        cdl = 0\n",
    "        for i in range(no_videos):\n",
    "            b = False\n",
    "            for j in range(video_length):\n",
    "                image = cv2.imread(os.path.join(path,adl[cdl]))\n",
    "#                 image = cv2.flip(image,1)\n",
    "                image = cv2.resize(image,(640,480))\n",
    "                image, results = mediapipe_detection(image, model)\n",
    "                draw_landmarks(image, results)\n",
    "#                 print(results.multi_handedness)\n",
    "                cdl += 1\n",
    "                cv2.putText(image,'f no {} Vno {} c {}'.format(j,i,category), (10,20), \n",
    "                                   cv2.FONT_HERSHEY_SIMPLEX,0.5, (150, 0, 255), 1, cv2.LINE_AA)\n",
    "                cv2.imshow(\"frame\",image)\n",
    "                # NEW Export keypoints\n",
    "                keypoints = extract_keypoints(results)\n",
    "                npy_path = os.path.join(DATA_PATH, category, str(i), str(j))\n",
    "                np.save(npy_path, keypoints)\n",
    "                \n",
    "                if cv2.waitKey(1) & 0xFF == ord('q'):\n",
    "                    b = True\n",
    "                    break\n",
    "            if b:\n",
    "                break\n",
    "\n",
    "\n",
    "    cv2.destroyAllWindows()"
   ]
  },
  {
   "cell_type": "markdown",
   "id": "ac2b394d",
   "metadata": {},
   "source": [
    "# 11. converting categories using one hot encoding and splitting data into train and test "
   ]
  },
  {
   "cell_type": "code",
   "execution_count": 126,
   "id": "9efd69bb",
   "metadata": {},
   "outputs": [],
   "source": [
    "from sklearn.model_selection import train_test_split\n",
    "from tensorflow.keras.utils import to_categorical\n",
    "label_map = {label:num for num, label in enumerate(categories)}"
   ]
  },
  {
   "cell_type": "code",
   "execution_count": 127,
   "id": "c7557db9",
   "metadata": {},
   "outputs": [
    {
     "data": {
      "text/plain": [
       "{'A': 0,\n",
       " 'B': 1,\n",
       " 'C': 2,\n",
       " 'D': 3,\n",
       " 'E': 4,\n",
       " 'F': 5,\n",
       " 'G': 6,\n",
       " 'H': 7,\n",
       " 'I': 8,\n",
       " 'J': 9,\n",
       " 'K': 10,\n",
       " 'L': 11,\n",
       " 'M': 12,\n",
       " 'N': 13,\n",
       " 'O': 14,\n",
       " 'P': 15,\n",
       " 'Q': 16,\n",
       " 'R': 17,\n",
       " 'S': 18,\n",
       " 'T': 19,\n",
       " 'U': 20,\n",
       " 'V': 21,\n",
       " 'W': 22,\n",
       " 'X': 23,\n",
       " 'Y': 24,\n",
       " 'Z': 25,\n",
       " 'del': 26,\n",
       " 'space': 27,\n",
       " 'nothing': 28}"
      ]
     },
     "execution_count": 127,
     "metadata": {},
     "output_type": "execute_result"
    }
   ],
   "source": [
    "label_map"
   ]
  },
  {
   "cell_type": "code",
   "execution_count": 128,
   "id": "c0d1cf83",
   "metadata": {},
   "outputs": [],
   "source": [
    "videos, labels = [], []\n",
    "for category in categories:\n",
    "    for video in range(no_videos):\n",
    "        window = []\n",
    "        for frame_num in range(video_length):\n",
    "            res = np.load(os.path.join(DATA_PATH, category, str(video), \"{}.npy\".format(frame_num)))\n",
    "            window.append(res)\n",
    "        videos.append(window)\n",
    "        labels.append(label_map[category])"
   ]
  },
  {
   "cell_type": "code",
   "execution_count": 129,
   "id": "c7b0af3f",
   "metadata": {},
   "outputs": [],
   "source": [
    "X = np.array(videos)"
   ]
  },
  {
   "cell_type": "code",
   "execution_count": 130,
   "id": "d012d3f8",
   "metadata": {},
   "outputs": [
    {
     "data": {
      "text/plain": [
       "(11600, 15, 126)"
      ]
     },
     "execution_count": 130,
     "metadata": {},
     "output_type": "execute_result"
    }
   ],
   "source": [
    "X.shape"
   ]
  },
  {
   "cell_type": "code",
   "execution_count": 131,
   "id": "6bc7e8e4",
   "metadata": {},
   "outputs": [],
   "source": [
    "y = to_categorical(labels).astype(int) #one hot encoding to convert categorial variable"
   ]
  },
  {
   "cell_type": "code",
   "execution_count": 132,
   "id": "ed72a577",
   "metadata": {},
   "outputs": [],
   "source": [
    "X_train, X_test, y_train, y_test = train_test_split(X, y, test_size=0.20)"
   ]
  },
  {
   "cell_type": "code",
   "execution_count": 133,
   "id": "77262226",
   "metadata": {},
   "outputs": [
    {
     "data": {
      "text/plain": [
       "(2320, 29)"
      ]
     },
     "execution_count": 133,
     "metadata": {},
     "output_type": "execute_result"
    }
   ],
   "source": [
    "y_test.shape"
   ]
  },
  {
   "cell_type": "code",
   "execution_count": 134,
   "id": "7baaf623",
   "metadata": {},
   "outputs": [
    {
     "data": {
      "text/plain": [
       "(9280, 15, 126)"
      ]
     },
     "execution_count": 134,
     "metadata": {},
     "output_type": "execute_result"
    }
   ],
   "source": [
    "X_train.shape"
   ]
  },
  {
   "cell_type": "code",
   "execution_count": 105,
   "id": "2db0f79d",
   "metadata": {},
   "outputs": [],
   "source": [
    "nsamples, nx, ny = X_train.shape\n",
    "X_train = X_train.reshape((nsamples,nx*ny))\n",
    "\n"
   ]
  },
  {
   "cell_type": "code",
   "execution_count": 110,
   "id": "252c5fdf",
   "metadata": {},
   "outputs": [],
   "source": [
    "nsamples, nx, ny = X_test.shape\n",
    "X_test = X_test.reshape((nsamples,nx*ny))"
   ]
  },
  {
   "cell_type": "markdown",
   "id": "c743b7e5",
   "metadata": {},
   "source": [
    "# Random Forest Model"
   ]
  },
  {
   "cell_type": "code",
   "execution_count": 98,
   "id": "b939917a",
   "metadata": {},
   "outputs": [],
   "source": [
    "from sklearn.ensemble import RandomForestClassifier\n"
   ]
  },
  {
   "cell_type": "code",
   "execution_count": 112,
   "id": "bb4e1217",
   "metadata": {},
   "outputs": [],
   "source": [
    "classifier_rf = RandomForestClassifier(random_state=42, n_jobs=-1, max_depth=5,\n",
    "                                       n_estimators=1000, oob_score=True)"
   ]
  },
  {
   "cell_type": "code",
   "execution_count": 113,
   "id": "6220e288",
   "metadata": {},
   "outputs": [
    {
     "data": {
      "text/plain": [
       "RandomForestClassifier(max_depth=5, n_estimators=1000, n_jobs=-1,\n",
       "                       oob_score=True, random_state=42)"
      ]
     },
     "execution_count": 113,
     "metadata": {},
     "output_type": "execute_result"
    }
   ],
   "source": [
    "classifier_rf.fit(X_train, y_train)"
   ]
  },
  {
   "cell_type": "code",
   "execution_count": 114,
   "id": "a7a1b9d8",
   "metadata": {},
   "outputs": [
    {
     "data": {
      "text/plain": [
       "(9280, 1890)"
      ]
     },
     "execution_count": 114,
     "metadata": {},
     "output_type": "execute_result"
    }
   ],
   "source": [
    "X_train.shape"
   ]
  },
  {
   "cell_type": "code",
   "execution_count": 115,
   "id": "4487b90e",
   "metadata": {},
   "outputs": [
    {
     "data": {
      "text/plain": [
       "0.9660077288941732"
      ]
     },
     "execution_count": 115,
     "metadata": {},
     "output_type": "execute_result"
    }
   ],
   "source": [
    "classifier_rf.oob_score_"
   ]
  },
  {
   "cell_type": "code",
   "execution_count": 116,
   "id": "69af411b",
   "metadata": {},
   "outputs": [
    {
     "data": {
      "text/plain": [
       "0.014655172413793103"
      ]
     },
     "execution_count": 116,
     "metadata": {},
     "output_type": "execute_result"
    }
   ],
   "source": [
    "classifier_rf.score(X_test,y_test)"
   ]
  },
  {
   "cell_type": "code",
   "execution_count": 117,
   "id": "0e48ba47",
   "metadata": {},
   "outputs": [],
   "source": [
    "rf = RandomForestClassifier(random_state=42, n_jobs=-1)"
   ]
  },
  {
   "cell_type": "code",
   "execution_count": null,
   "id": "bfb2ef38",
   "metadata": {},
   "outputs": [],
   "source": [
    "params = {\n",
    "    'max_depth': [2,3,5,10,20,30,40,50,60],\n",
    "    'min_samples_leaf': [5,10,20,50,100,200,],\n",
    "    'n_estimators': [10,25,30,50,100,200]\n",
    "}"
   ]
  },
  {
   "cell_type": "code",
   "execution_count": null,
   "id": "12785044",
   "metadata": {},
   "outputs": [],
   "source": []
  },
  {
   "cell_type": "code",
   "execution_count": null,
   "id": "f20a8074",
   "metadata": {},
   "outputs": [],
   "source": []
  },
  {
   "cell_type": "code",
   "execution_count": null,
   "id": "fb184a84",
   "metadata": {},
   "outputs": [],
   "source": []
  },
  {
   "cell_type": "code",
   "execution_count": null,
   "id": "c7587b52",
   "metadata": {},
   "outputs": [],
   "source": []
  },
  {
   "cell_type": "markdown",
   "id": "36a53d53",
   "metadata": {},
   "source": [
    "# 12. Building model and training"
   ]
  },
  {
   "cell_type": "code",
   "execution_count": 135,
   "id": "bacfabbf",
   "metadata": {},
   "outputs": [],
   "source": [
    "from tensorflow.keras.models import Sequential\n",
    "from tensorflow.keras.layers import LSTM, Dense,Flatten\n",
    "from tensorflow.keras.callbacks import TensorBoard"
   ]
  },
  {
   "cell_type": "code",
   "execution_count": 136,
   "id": "34c076ad",
   "metadata": {},
   "outputs": [],
   "source": [
    "import tensorflow as tf\n",
    "ACCURACY_THRESHOLD = 0.97\n",
    "class myCallback(tf.keras.callbacks.Callback):\n",
    "    def on_epoch_end(self, epoch, logs={}):\n",
    "        # print(logs.get('acc'))\n",
    "        # print(logs.get('categorical_accuracy'))\n",
    "        if(logs.get('categorical_accuracy') > ACCURACY_THRESHOLD):\n",
    "            # print(logs.get('acc'))\n",
    "            # print(logs.get('categorical_accuracy'))\n",
    "            print(\"\\nReached %2.2f%% accuracy, so stopping training!!\" %(ACCURACY_THRESHOLD*100))\n",
    "            self.model.stop_training = True\n",
    "\n",
    "# Instantiate a callback object\n",
    "callbacks = myCallback()"
   ]
  },
  {
   "cell_type": "code",
   "execution_count": 137,
   "id": "d0e998fb",
   "metadata": {},
   "outputs": [],
   "source": [
    "log_dir = os.path.join('trainLogsdNeuralNetworkATOZ26April')\n",
    "tb_callback = TensorBoard(log_dir=log_dir)"
   ]
  },
  {
   "cell_type": "code",
   "execution_count": 138,
   "id": "4b911a2e",
   "metadata": {},
   "outputs": [],
   "source": [
    "mycallbacks = [callbacks,tb_callback]"
   ]
  },
  {
   "cell_type": "code",
   "execution_count": 139,
   "id": "9c69462f",
   "metadata": {},
   "outputs": [],
   "source": [
    "model = Sequential()\n",
    "model.add(Dense(64,activation='relu',input_shape=(15,126)))\n",
    "model.add(Dense(64, activation='relu'))\n",
    "model.add(Dense(128, activation='relu'))\n",
    "model.add(Dense(256, activation='relu'))\n",
    "model.add(Dense(512, activation='relu'))\n",
    "model.add(Dense(1024, activation='relu'))\n",
    "model.add(Dense(1024, activation='relu'))\n",
    "model.add(Dense(512, activation='relu'))\n",
    "model.add(Dense(256, activation='relu'))\n",
    "model.add(Dense(128, activation='relu'))\n",
    "model.add(Dense(64, activation='relu'))\n",
    "model.add(Flatten())\n",
    "model.add(Dense(categories.shape[0], activation='softmax'))\n",
    "model.compile(optimizer='Adam', loss='categorical_crossentropy', metrics=['categorical_accuracy'])"
   ]
  },
  {
   "cell_type": "code",
   "execution_count": 140,
   "id": "39efc4f4",
   "metadata": {},
   "outputs": [
    {
     "name": "stdout",
     "output_type": "stream",
     "text": [
      "Epoch 1/500\n",
      "  1/290 [..............................] - ETA: 0s - loss: 3.3668 - categorical_accuracy: 0.0312WARNING:tensorflow:From C:\\Users\\91963\\anaconda3\\envs\\pygpu22\\lib\\site-packages\\tensorflow\\python\\ops\\summary_ops_v2.py:1277: stop (from tensorflow.python.eager.profiler) is deprecated and will be removed after 2020-07-01.\n",
      "Instructions for updating:\n",
      "use `tf.profiler.experimental.stop` instead.\n",
      "  2/290 [..............................] - ETA: 22s - loss: 3.3597 - categorical_accuracy: 0.0625WARNING:tensorflow:Callbacks method `on_train_batch_end` is slow compared to the batch time (batch time: 0.0140s vs `on_train_batch_end` time: 0.1404s). Check your callbacks.\n",
      "290/290 [==============================] - 5s 17ms/step - loss: 2.8839 - categorical_accuracy: 0.0905\n",
      "Epoch 2/500\n",
      "290/290 [==============================] - 4s 15ms/step - loss: 2.3523 - categorical_accuracy: 0.1901 2s - loss: 2.459\n",
      "Epoch 3/500\n",
      "290/290 [==============================] - 5s 16ms/step - loss: 1.9081 - categorical_accuracy: 0.2933 0s - loss: 1.9108 - categorical_accuracy: 0.29\n",
      "Epoch 4/500\n",
      "290/290 [==============================] - 4s 15ms/step - loss: 1.5036 - categorical_accuracy: 0.4418 3s - loss: 1.5883 - catego\n",
      "Epoch 5/500\n",
      "290/290 [==============================] - 4s 15ms/step - loss: 1.2424 - categorical_accuracy: 0.5491 0s - loss: 1.2423 - categorical_accuracy: 0.54\n",
      "Epoch 6/500\n",
      "290/290 [==============================] - 4s 15ms/step - loss: 1.0527 - categorical_accuracy: 0.6237\n",
      "Epoch 7/500\n",
      "290/290 [==============================] - 4s 16ms/step - loss: 0.9452 - categorical_accuracy: 0.6704\n",
      "Epoch 8/500\n",
      "290/290 [==============================] - 4s 15ms/step - loss: 1.0509 - categorical_accuracy: 0.6472\n",
      "Epoch 9/500\n",
      "290/290 [==============================] - 4s 15ms/step - loss: 0.8183 - categorical_accuracy: 0.7198\n",
      "Epoch 10/500\n",
      "290/290 [==============================] - 4s 16ms/step - loss: 0.9574 - categorical_accuracy: 0.6900 0s - loss: 0.9576 - categorical_accu\n",
      "Epoch 11/500\n",
      "290/290 [==============================] - 4s 15ms/step - loss: 0.8096 - categorical_accuracy: 0.7294\n",
      "Epoch 12/500\n",
      "290/290 [==============================] - 5s 16ms/step - loss: 0.7873 - categorical_accuracy: 0.7453\n",
      "Epoch 13/500\n",
      "290/290 [==============================] - 4s 15ms/step - loss: 0.7175 - categorical_accuracy: 0.7680 1s - loss: 0.7266  - ETA: 0s - loss: 0.7292 - categorical_accuracy - ETA: 0s - loss: 0.7240 - categorical_accuracy - ETA: 0s - loss: 0.7239 - categorical_accuracy - ETA: 0s - loss: 0.7194 - categorical_accuracy: 0.76\n",
      "Epoch 14/500\n",
      "290/290 [==============================] - 5s 16ms/step - loss: 0.6406 - categorical_accuracy: 0.7919 1s - loss: 0.6286 - categorical_accuracy:  - ETA: 1s - loss: 0.6375 - categorical_accuracy:  - ETA: 1s - l\n",
      "Epoch 15/500\n",
      "290/290 [==============================] - 5s 16ms/step - loss: 0.7385 - categorical_accuracy: 0.7697 0s - loss: 0.7201 - categorical_accuracy: 0. - ETA: 0s - loss: 0.7189 - \n",
      "Epoch 16/500\n",
      "290/290 [==============================] - 5s 16ms/step - loss: 0.7433 - categorical_accuracy: 0.7734 1s - l - ETA: 0s - loss: 0.7590 - catego\n",
      "Epoch 17/500\n",
      "290/290 [==============================] - 5s 16ms/step - loss: 0.6274 - categorical_accuracy: 0.8022 2s - loss: 0.6045 - categori - ETA: 2s - loss: 0.5964 - categorical_ - ETA: 1s - loss: 0.6109 - cate - ETA: 1s - loss: 0.6050 - categorical_ - ETA: 0s - loss: 0.6187 - categorical_accura - ETA: 0s - loss: 0.6300 - categorical_accuracy: 0.80 - ETA: 0s - loss: 0.6306 - categorical_accuracy: \n",
      "Epoch 18/500\n",
      "290/290 [==============================] - 4s 15ms/step - loss: 0.6604 - categorical_accuracy: 0.7922 2s - loss: 0.6589 - ca - ETA: 2s - loss: 0.6587 - categorical_ac - ETA: 1s - loss: 0.6480 - categori - ETA: 1s - loss: 0.6393 - categorical_accuracy: 0. - ETA: 1s - loss: 0.6461 - categorical_accuracy:  - ETA: 0s - loss: 0.6561 - categori - ETA: 0s - loss: 0.6655 - categorical_accuracy:  - ETA: 0s - loss: 0.6604 - categorical_accuracy: 0.79\n",
      "Epoch 19/500\n",
      "290/290 [==============================] - 5s 16ms/step - loss: 0.6341 - categorical_accuracy: 0.8077 2s - loss: 0.5502 - categorical_accuracy: 0.83 - ETA: 2s - loss: 0.5669 - catego\n",
      "Epoch 20/500\n",
      "290/290 [==============================] - 5s 16ms/step - loss: 0.6024 - categorical_accuracy: 0.8179\n",
      "Epoch 21/500\n",
      "290/290 [==============================] - 5s 16ms/step - loss: 0.5860 - categorical_accuracy: 0.8184 1s - loss: 0 - ETA: 0s - loss: 0.5939 - categorical_ac\n",
      "Epoch 22/500\n",
      "290/290 [==============================] - 5s 16ms/step - loss: 0.5833 - categorical_accuracy: 0.8169 4s - loss: 0.4823  - ETA - ETA: 0s - loss: 0.5827 - categorical_accuracy: 0.81\n",
      "Epoch 23/500\n",
      "290/290 [==============================] - 5s 16ms/step - loss: 0.5733 - categorical_accuracy: 0.8225\n",
      "Epoch 24/500\n",
      "290/290 [==============================] - 5s 16ms/step - loss: 0.5130 - categorical_accuracy: 0.8404 0s - loss: 0.5159 - categori\n",
      "Epoch 25/500\n",
      "290/290 [==============================] - 5s 16ms/step - loss: 0.5407 - categorical_accuracy: 0.8366 4s - loss: 0.4577  - ETA: 3s - loss: 0.5143 - ca - ETA: 2s - l - ETA: 1s - loss:\n",
      "Epoch 26/500\n",
      "290/290 [==============================] - 5s 16ms/step - loss: 0.5682 - categorical_accuracy: 0.8319  - ETA: 0s - loss: 0.5680 - categorical_accuracy: 0.83\n",
      "Epoch 27/500\n",
      "290/290 [==============================] - 5s 16ms/step - loss: 0.5733 - categorical_accuracy: 0.8341 1s -\n",
      "Epoch 28/500\n",
      "290/290 [==============================] - 5s 16ms/step - loss: 0.6201 - categorical_accuracy: 0.8256\n",
      "Epoch 29/500\n",
      "290/290 [==============================] - 5s 16ms/step - loss: 0.5593 - categorical_accuracy: 0.8339\n",
      "Epoch 30/500\n",
      "290/290 [==============================] - 5s 16ms/step - loss: 0.5460 - categorical_accuracy: 0.8445 3s - loss: 0.5679 - categori - ETA: 2s - loss: 0 - ETA\n",
      "Epoch 31/500\n",
      "290/290 [==============================] - 5s 16ms/step - loss: 0.5283 - categorical_accuracy: 0.8475\n",
      "Epoch 32/500\n",
      "290/290 [==============================] - 5s 16ms/step - loss: 0.4941 - categorical_accuracy: 0.8595 0s - loss: 0.5121 - categorical_ - ETA: 0s - loss: 0.5011 - categorical_ac\n",
      "Epoch 33/500\n",
      "290/290 [==============================] - 5s 16ms/step - loss: 0.5809 - categorical_accuracy: 0.8358\n",
      "Epoch 34/500\n",
      "290/290 [==============================] - 5s 16ms/step - loss: 0.5523 - categorical_accuracy: 0.8402\n",
      "Epoch 35/500\n",
      "290/290 [==============================] - 5s 16ms/step - loss: 0.5734 - categorical_accuracy: 0.8423 0s - loss: 0.5586 - categorical_accuracy - ETA: 0s - loss: 0.5719 - categorical_accuracy: 0. - ETA: 0s - loss: 0.5731 - categorical_accuracy: 0.\n",
      "Epoch 36/500\n",
      "290/290 [==============================] - 5s 16ms/step - loss: 0.5575 - categorical_accuracy: 0.8475 2s - loss: 0.4907 - categorical_accuracy - ETA: 0s - loss: 0.5948 - categorical_accuracy - ETA: 0s - loss: 0.5801 - catego\n",
      "Epoch 37/500\n",
      "290/290 [==============================] - 5s 16ms/step - loss: 0.4385 - categorical_accuracy: 0.8764 2s - loss: 0.4081 - categorical_ac - ETA: 2s - loss: 0.4113 - categorical_accuracy - ETA: 2s - loss: 0.4 - ETA: 1s - loss:\n",
      "Epoch 38/500\n",
      "290/290 [==============================] - 5s 16ms/step - loss: 0.4823 - categorical_accuracy: 0.8723 2s - loss: 0.5624 - catego - ETA: 0s - loss: 0.4808 - categorical_accuracy: 0.87\n",
      "Epoch 39/500\n",
      "290/290 [==============================] - 5s 16ms/step - loss: 1.1466 - categorical_accuracy: 0.6575 3s - los - ETA: 2s - loss: 1.5175 - categorical_accuracy:  - ETA: 2s - los - ETA: 1s - loss:\n",
      "Epoch 40/500\n",
      "290/290 [==============================] - 5s 16ms/step - loss: 0.6195 - categorical_accuracy: 0.8074 1s - loss: 0.6\n",
      "Epoch 41/500\n",
      "290/290 [==============================] - 5s 16ms/step - loss: 0.6239 - categorical_accuracy: 0.8226 1s - loss: 0.6954 - categorical_accura - ETA: 1s - loss: 0.6814 - ca - ETA: 0s - loss: 0.6438 - categorical_accuracy - ETA: 0s - loss: 0.6336 - categorical_\n",
      "Epoch 42/500\n",
      "290/290 [==============================] - 5s 16ms/step - loss: 0.5420 - categorical_accuracy: 0.8495\n",
      "Epoch 43/500\n",
      "290/290 [==============================] - 5s 16ms/step - loss: 0.4812 - categorical_accuracy: 0.8647\n",
      "Epoch 44/500\n",
      "290/290 [==============================] - 5s 18ms/step - loss: 0.4530 - categorical_accuracy: 0.8763\n",
      "Epoch 45/500\n",
      "290/290 [==============================] - 5s 16ms/step - loss: 0.4623 - categorical_accuracy: 0.8730 1s - los\n",
      "Epoch 46/500\n",
      "290/290 [==============================] - 5s 16ms/step - loss: 0.4666 - categorical_accuracy: 0.8762 1s - loss: 0.4902 - categorical_accuracy: 0.86 - ETA: 1s - l\n",
      "Epoch 47/500\n",
      "290/290 [==============================] - 5s 16ms/step - loss: 0.4537 - categorical_accuracy: 0.8829\n",
      "Epoch 48/500\n",
      "290/290 [==============================] - 5s 16ms/step - loss: 0.4638 - categorical_accuracy: 0.8734\n",
      "Epoch 49/500\n",
      "290/290 [==============================] - 5s 16ms/step - loss: 0.4401 - categorical_accuracy: 0.8837 2s - loss: 0.4227 - cate\n",
      "Epoch 50/500\n",
      "290/290 [==============================] - 5s 16ms/step - loss: 0.5034 - categorical_accuracy: 0.8748 1s - l\n",
      "Epoch 51/500\n",
      "290/290 [==============================] - 5s 16ms/step - loss: 0.4109 - categorical_accuracy: 0.8879\n",
      "Epoch 52/500\n",
      "290/290 [==============================] - 5s 16ms/step - loss: 0.4621 - categorical_accuracy: 0.8774 \n",
      "Epoch 53/500\n",
      "290/290 [==============================] - 5s 16ms/step - loss: 0.4226 - categorical_accuracy: 0.8844 3s - ETA: 2s - loss: 0.4152 - categorical_accura - ETA: 2s - loss: 0.4407 - categorical_accuracy: 0.87 - ETA: 2s - loss: 0.4417 - categorical_accuracy: 0.87 - ETA: 0s - loss: 0.4247 - categorical_accura\n",
      "Epoch 54/500\n",
      "290/290 [==============================] - 5s 16ms/step - loss: 0.4235 - categorical_accuracy: 0.8857 3s - loss: 0.4268 - categorical_accuracy:  - ETA: 3s - loss: 0.4526  - ETA: 0s - loss: 0.428\n",
      "Epoch 55/500\n",
      "290/290 [==============================] - 5s 16ms/step - loss: 0.4057 - categorical_accuracy: 0.8907 1s - loss: 0.4367 - categorical_accuracy:  - ETA: 1s - loss:\n",
      "Epoch 56/500\n",
      "290/290 [==============================] - 5s 16ms/step - loss: 0.4835 - categorical_accuracy: 0.8768 3s - loss: 0.3486 - categorical_ac - ETA: 2s - loss: 0.3486  - ETA: 1s - loss: 0.4234 - categorica - ETA: 1s\n",
      "Epoch 57/500\n",
      "290/290 [==============================] - 6s 20ms/step - loss: 0.4427 - categorical_accuracy: 0.8834\n",
      "Epoch 58/500\n",
      "290/290 [==============================] - 5s 16ms/step - loss: 0.4223 - categorical_accuracy: 0.8886A: 2s - loss: 0.4841 - categorical_accuracy: 0.87 - ETA: 2s - loss: 0.4778 - categorica\n",
      "Epoch 59/500\n",
      "290/290 [==============================] - 5s 18ms/step - loss: 0.4584 - categorical_accuracy: 0.8828\n",
      "Epoch 60/500\n",
      "290/290 [==============================] - 5s 16ms/step - loss: 0.4619 - categorical_accuracy: 0.8823 2s - loss: 0.395\n",
      "Epoch 61/500\n",
      "290/290 [==============================] - 5s 16ms/step - loss: 0.3781 - categorical_accuracy: 0.9060- ETA: 0s - loss: 0.3756 - categorical_accuracy:  - ETA: 0s - loss: 0.3727 - catego\n",
      "Epoch 62/500\n",
      "290/290 [==============================] - 5s 16ms/step - loss: 0.4205 - categorical_accuracy: 0.8904\n",
      "Epoch 63/500\n",
      "290/290 [==============================] - 6s 20ms/step - loss: 0.3648 - categorical_accuracy: 0.9024 0s - loss: 0.3639 - categorical_accuracy: 0.90\n",
      "Epoch 64/500\n",
      "290/290 [==============================] - 5s 16ms/step - loss: 0.4610 - categorical_accuracy: 0.8832\n",
      "Epoch 65/500\n",
      "290/290 [==============================] - 6s 20ms/step - loss: 0.3932 - categorical_accuracy: 0.8995 3s - - ETA: 2s - loss: 0.4455 - categorical_accuracy: 0. - ETA: 2s - loss: 0.4445  - ETA: 1s - loss: 0.4257 - categorical_accuracy - ETA: 1s - loss: 0\n",
      "Epoch 66/500\n",
      "290/290 [==============================] - 6s 20ms/step - loss: 0.3698 - categorical_accuracy: 0.9055 1s - l - ETA: 0s - loss: 0.3710 - categorical_accuracy: 0.90 - ETA: 0s - loss: 0.3713 - categori\n",
      "Epoch 67/500\n",
      "290/290 [==============================] - 5s 16ms/step - loss: 0.3626 - categorical_accuracy: 0.9050 3s - loss: 0.3136 - categorical_accuracy: 0.91 - ETA: 3s - loss: 0.3125 - categorical_accuracy: 0.91 - ETA: 3s - loss: 0.3 - ETA: 2s - loss: 0.3227 - catego\n",
      "Epoch 68/500\n",
      "290/290 [==============================] - 5s 16ms/step - loss: 0.5010 - categorical_accuracy: 0.8770\n",
      "Epoch 69/500\n",
      "290/290 [==============================] - 5s 16ms/step - loss: 0.4093 - categorical_accuracy: 0.8931\n",
      "Epoch 70/500\n",
      "290/290 [==============================] - 6s 20ms/step - loss: 0.3822 - categorical_accuracy: 0.9068 2s - loss: 0.3069 - categorical_accuracy - ETA: 2s - loss: 0.3304 - categorical_accu - ETA: \n",
      "Epoch 71/500\n",
      "290/290 [==============================] - 5s 16ms/step - loss: 0.3641 - categorical_accuracy: 0.9059 3s - loss: 0.2772 - categorical_ac - ETA: 3s - loss: 0.3086 -  - ETA: 2s - loss: 0.3041 - catego - ETA: 2s - loss: 0.3107 - categori - ETA: 1s - loss: 0.3042 - categorical_accuracy - ETA: 1s - loss:\n",
      "Epoch 72/500\n",
      "290/290 [==============================] - 5s 19ms/step - loss: 0.3363 - categorical_accuracy: 0.9143 3s - loss: 0.3659 - categorical_accuracy - ETA: 4s - los - ETA: 2s - ETA: 1s - loss: 0.3337 - categorical_accu -\n",
      "Epoch 73/500\n",
      "290/290 [==============================] - 5s 16ms/step - loss: 0.4519 - categorical_accuracy: 0.8891 3s - loss: 0.6090 - categorical_ - ETA: 3s - loss: 0.5918 - catego - E - ETA: 0s - loss: 0.4644 - catego - ETA: 0s - loss: 0.4513 - categorical_accuracy: 0.88\n",
      "Epoch 74/500\n",
      "290/290 [==============================] - 5s 16ms/step - loss: 0.4318 - categorical_accuracy: 0.8925\n",
      "Epoch 75/500\n",
      "290/290 [==============================] - 5s 19ms/step - loss: 0.3747 - categorical_accuracy: 0.9052\n",
      "Epoch 76/500\n",
      "290/290 [==============================] - 6s 20ms/step - loss: 0.3789 - categorical_accuracy: 0.9032\n",
      "Epoch 77/500\n",
      "290/290 [==============================] - 6s 20ms/step - loss: 0.3751 - categorical_accuracy: 0.9044\n",
      "Epoch 78/500\n",
      "290/290 [==============================] - 5s 16ms/step - loss: 0.4128 - categorical_accuracy: 0.8917\n",
      "Epoch 79/500\n",
      "290/290 [==============================] - 6s 20ms/step - loss: 0.3760 - categorical_accuracy: 0.9014 3s - l - ETA: 1s - loss: 0.3850 - categorica - ETA: 0s - loss: 0.3785 - categorical_accuracy: 0.90 - ETA: 0s - loss: 0.3774 - categorical_accuracy:  - ETA: 0s - loss: 0.3792 - categorical_accuracy\n",
      "Epoch 80/500\n",
      "290/290 [==============================] - 6s 20ms/step - loss: 0.3458 - categorical_accuracy: 0.9094 3s - loss: 0.2828 - categorical_accuracy: 0.94 - ETA: 3s - loss: 0.3171 - categorical_ - ETA: 1s - loss: 0.3524 - categorical_accuracy: 0.90 - ETA: 1s - loss: 0.3526 - \n",
      "Epoch 81/500\n",
      "290/290 [==============================] - 6s 20ms/step - loss: 0.4198 - categorical_accuracy: 0.8956 4s - loss: - ETA: 3s - los - ETA: 1s - los\n",
      "Epoch 82/500\n",
      "290/290 [==============================] - 7s 23ms/step - loss: 0.3939 - categorical_accuracy: 0.9013\n",
      "Epoch 83/500\n",
      "290/290 [==============================] - 5s 16ms/step - loss: 0.4058 - categorical_accuracy: 0.9004\n",
      "Epoch 84/500\n",
      "290/290 [==============================] - 6s 20ms/step - loss: 0.3414 - categorical_accuracy: 0.9133 2s - l - ETA: 1s - loss: 0.3547  - ETA: 0s - loss: 0\n",
      "Epoch 85/500\n",
      "290/290 [==============================] - 7s 24ms/step - loss: 0.3940 - categorical_accuracy: 0.9036\n",
      "Epoch 86/500\n",
      "290/290 [==============================] - 5s 16ms/step - loss: 0.3733 - categorical_accuracy: 0.9032 2s - loss: 0.4190 - categori - ETA: 2s - loss: 0.3929 - categorica -\n",
      "Epoch 87/500\n",
      "290/290 [==============================] - 5s 16ms/step - loss: 0.5154 - categorical_accuracy: 0.8753\n",
      "Epoch 88/500\n",
      "290/290 [==============================] - 5s 16ms/step - loss: 0.4278 - categorical_accuracy: 0.8856\n",
      "Epoch 89/500\n",
      "290/290 [==============================] - 6s 22ms/step - loss: 0.4017 - categorical_accuracy: 0.8997\n",
      "Epoch 90/500\n",
      "290/290 [==============================] - 6s 20ms/step - loss: 0.3478 - categorical_accuracy: 0.9122\n",
      "Epoch 91/500\n",
      "290/290 [==============================] - 9s 30ms/step - loss: 0.3246 - categorical_accuracy: 0.9192\n",
      "Epoch 92/500\n",
      "290/290 [==============================] - 8s 26ms/step - loss: 0.4169 - categorical_accuracy: 0.9022 0s - loss: 0.4311 - catego\n",
      "Epoch 93/500\n",
      "290/290 [==============================] - 5s 17ms/step - loss: 0.3228 - categorical_accuracy: 0.9184 0s - loss: 0.3228 - categorical_accuracy: 0.91\n",
      "Epoch 94/500\n"
     ]
    },
    {
     "name": "stdout",
     "output_type": "stream",
     "text": [
      "290/290 [==============================] - 5s 17ms/step - loss: 0.3031 - categorical_accuracy: 0.9231 0s - loss: 0.3061 - categorical_\n",
      "Epoch 95/500\n",
      "290/290 [==============================] - 5s 16ms/step - loss: 0.3151 - categorical_accuracy: 0.9224\n",
      "Epoch 96/500\n",
      "290/290 [==============================] - 6s 21ms/step - loss: 0.3734 - categorical_accuracy: 0.9083 0s - loss: 0.3813 - catego\n",
      "Epoch 97/500\n",
      "290/290 [==============================] - 7s 24ms/step - loss: 0.4263 - categorical_accuracy: 0.8975\n",
      "Epoch 98/500\n",
      "290/290 [==============================] - 6s 20ms/step - loss: 0.4091 - categorical_accuracy: 0.8963 0s - loss: 0.4\n",
      "Epoch 99/500\n",
      "290/290 [==============================] - 6s 20ms/step - loss: 0.4098 - categorical_accuracy: 0.8996\n",
      "Epoch 100/500\n",
      "290/290 [==============================] - 6s 20ms/step - loss: 0.4058 - categorical_accuracy: 0.9032 0s - loss: 0.4210 - categori\n",
      "Epoch 101/500\n",
      "290/290 [==============================] - 7s 24ms/step - loss: 0.3010 - categorical_accuracy: 0.9238\n",
      "Epoch 102/500\n",
      "290/290 [==============================] - 5s 16ms/step - loss: 0.3742 - categorical_accuracy: 0.9101\n",
      "Epoch 103/500\n",
      "290/290 [==============================] - 7s 24ms/step - loss: 0.3451 - categorical_accuracy: 0.9129 3s - loss: 0.3\n",
      "Epoch 104/500\n",
      "290/290 [==============================] - 6s 20ms/step - loss: 0.3522 - categorical_accuracy: 0.9117\n",
      "Epoch 105/500\n",
      "290/290 [==============================] - 8s 27ms/step - loss: 0.2867 - categorical_accuracy: 0.9277 2s - loss: 0.2870 - categorical_accu - ETA: 1s - loss: 0.2885 - cate\n",
      "Epoch 106/500\n",
      "290/290 [==============================] - 5s 16ms/step - loss: 0.3306 - categorical_accuracy: 0.9153\n",
      "Epoch 107/500\n",
      "290/290 [==============================] - 5s 16ms/step - loss: 0.3671 - categorical_accuracy: 0.9083\n",
      "Epoch 108/500\n",
      "290/290 [==============================] - 6s 20ms/step - loss: 0.3771 - categorical_accuracy: 0.9072\n",
      "Epoch 109/500\n",
      "290/290 [==============================] - 5s 16ms/step - loss: 0.3203 - categorical_accuracy: 0.9184\n",
      "Epoch 110/500\n",
      "290/290 [==============================] - 5s 16ms/step - loss: 0.4864 - categorical_accuracy: 0.8803\n",
      "Epoch 111/500\n",
      "290/290 [==============================] - 6s 19ms/step - loss: 0.3124 - categorical_accuracy: 0.9248\n",
      "Epoch 112/500\n",
      "290/290 [==============================] - 6s 20ms/step - loss: 0.2995 - categorical_accuracy: 0.9251\n",
      "Epoch 113/500\n",
      "290/290 [==============================] - 5s 16ms/step - loss: 0.3141 - categorical_accuracy: 0.9217\n",
      "Epoch 114/500\n",
      "290/290 [==============================] - 7s 25ms/step - loss: 0.3798 - categorical_accuracy: 0.9064 2s - loss:\n",
      "Epoch 115/500\n",
      "290/290 [==============================] - 6s 20ms/step - loss: 0.3856 - categorical_accuracy: 0.9053\n",
      "Epoch 116/500\n",
      "290/290 [==============================] - 6s 20ms/step - loss: 0.3564 - categorical_accuracy: 0.9138 1s - loss:\n",
      "Epoch 117/500\n",
      "290/290 [==============================] - 6s 20ms/step - loss: 0.3294 - categorical_accuracy: 0.9182\n",
      "Epoch 118/500\n",
      "290/290 [==============================] - 7s 24ms/step - loss: 0.4029 - categorical_accuracy: 0.9032\n",
      "Epoch 119/500\n",
      "290/290 [==============================] - 5s 16ms/step - loss: 0.3657 - categorical_accuracy: 0.9154\n",
      "Epoch 120/500\n",
      "290/290 [==============================] - 6s 20ms/step - loss: 0.2823 - categorical_accuracy: 0.9309\n",
      "Epoch 121/500\n",
      "290/290 [==============================] - 5s 16ms/step - loss: 0.4118 - categorical_accuracy: 0.9044\n",
      "Epoch 122/500\n",
      "290/290 [==============================] - 7s 24ms/step - loss: 0.3246 - categorical_accuracy: 0.9217\n",
      "Epoch 123/500\n",
      "290/290 [==============================] - 7s 24ms/step - loss: 0.3090 - categorical_accuracy: 0.9216 0s - loss: 0.3114 - categorical_ac\n",
      "Epoch 124/500\n",
      "290/290 [==============================] - 6s 21ms/step - loss: 0.3149 - categorical_accuracy: 0.9206 0s - loss: 0.3195 - categorica\n",
      "Epoch 125/500\n",
      "290/290 [==============================] - 6s 20ms/step - loss: 0.2648 - categorical_accuracy: 0.9343\n",
      "Epoch 126/500\n",
      "290/290 [==============================] - 6s 20ms/step - loss: 0.3482 - categorical_accuracy: 0.9131\n",
      "Epoch 127/500\n",
      "290/290 [==============================] - 5s 16ms/step - loss: 0.3401 - categorical_accuracy: 0.9182 4s - loss: 0.2858 - cate\n",
      "Epoch 128/500\n",
      "290/290 [==============================] - 6s 20ms/step - loss: 0.3695 - categorical_accuracy: 0.9122ETA: 1s - loss: 0.3438 - categorical_accuracy: 0. - ETA: \n",
      "Epoch 129/500\n",
      "290/290 [==============================] - 6s 20ms/step - loss: 0.3174 - categorical_accuracy: 0.9185\n",
      "Epoch 130/500\n",
      "290/290 [==============================] - 7s 24ms/step - loss: 0.2991 - categorical_accuracy: 0.9266\n",
      "Epoch 131/500\n",
      "290/290 [==============================] - 5s 16ms/step - loss: 0.3998 - categorical_accuracy: 0.9094\n",
      "Epoch 132/500\n",
      "290/290 [==============================] - 7s 24ms/step - loss: 0.3448 - categorical_accuracy: 0.9168\n",
      "Epoch 133/500\n",
      "290/290 [==============================] - 6s 20ms/step - loss: 0.2845 - categorical_accuracy: 0.9293\n",
      "Epoch 134/500\n",
      "290/290 [==============================] - 7s 25ms/step - loss: 0.3433 - categorical_accuracy: 0.9149\n",
      "Epoch 135/500\n",
      "290/290 [==============================] - 6s 20ms/step - loss: 0.2548 - categorical_accuracy: 0.9372\n",
      "Epoch 136/500\n",
      "290/290 [==============================] - 6s 20ms/step - loss: 0.3797 - categorical_accuracy: 0.9074\n",
      "Epoch 137/500\n",
      "290/290 [==============================] - 5s 16ms/step - loss: 0.2906 - categorical_accuracy: 0.9277\n",
      "Epoch 138/500\n",
      "290/290 [==============================] - 7s 24ms/step - loss: 0.4590 - categorical_accuracy: 0.8834\n",
      "Epoch 139/500\n",
      "290/290 [==============================] - 7s 25ms/step - loss: 0.2852 - categorical_accuracy: 0.9293\n",
      "Epoch 140/500\n",
      "290/290 [==============================] - 6s 20ms/step - loss: 0.2656 - categorical_accuracy: 0.9327\n",
      "Epoch 141/500\n",
      "290/290 [==============================] - 6s 20ms/step - loss: 0.3294 - categorical_accuracy: 0.9239\n",
      "Epoch 142/500\n",
      "290/290 [==============================] - 6s 20ms/step - loss: 0.2878 - categorical_accuracy: 0.9289\n",
      "Epoch 143/500\n",
      "290/290 [==============================] - 5s 16ms/step - loss: 0.2960 - categorical_accuracy: 0.9277\n",
      "Epoch 144/500\n",
      "290/290 [==============================] - 7s 24ms/step - loss: 0.4279 - categorical_accuracy: 0.9023\n",
      "Epoch 145/500\n",
      "290/290 [==============================] - 5s 16ms/step - loss: 0.4226 - categorical_accuracy: 0.8850\n",
      "Epoch 146/500\n",
      "290/290 [==============================] - 6s 20ms/step - loss: 0.4664 - categorical_accuracy: 0.8829 1s - l\n",
      "Epoch 147/500\n",
      "290/290 [==============================] - 6s 20ms/step - loss: 0.3389 - categorical_accuracy: 0.9124 1s - l - ETA: 1s - loss: 0.3\n",
      "Epoch 148/500\n",
      "290/290 [==============================] - 7s 24ms/step - loss: 0.3810 - categorical_accuracy: 0.9052\n",
      "Epoch 149/500\n",
      "290/290 [==============================] - 6s 20ms/step - loss: 0.3316 - categorical_accuracy: 0.9168 3s - loss: 0.2415 - categorical_accuracy:  - ETA: 0s - loss: 0.3327 - categorical_accura\n",
      "Epoch 150/500\n",
      "290/290 [==============================] - 6s 20ms/step - loss: 0.3397 - categorical_accuracy: 0.9166\n",
      "Epoch 151/500\n",
      "290/290 [==============================] - 6s 21ms/step - loss: 0.3828 - categorical_accuracy: 0.9060\n",
      "Epoch 152/500\n",
      "290/290 [==============================] - 5s 16ms/step - loss: 0.2689 - categorical_accuracy: 0.9343 0s - loss: 0.2698 - categorical_accuracy: \n",
      "Epoch 153/500\n",
      "290/290 [==============================] - 6s 20ms/step - loss: 0.2733 - categorical_accuracy: 0.9323\n",
      "Epoch 154/500\n",
      "290/290 [==============================] - 6s 20ms/step - loss: 0.2487 - categorical_accuracy: 0.9380\n",
      "Epoch 155/500\n",
      "290/290 [==============================] - 5s 17ms/step - loss: 0.3844 - categorical_accuracy: 0.9152\n",
      "Epoch 156/500\n",
      "290/290 [==============================] - 5s 18ms/step - loss: 0.2643 - categorical_accuracy: 0.9342 3s - loss: 0.2900 - catego - ETA: 1s - loss: 0.2735 - categorical_accuracy - ETA: 1s - loss: 0.2759 - categorical_accuracy: 0. - E\n",
      "Epoch 157/500\n",
      "290/290 [==============================] - 5s 18ms/step - loss: 0.3368 - categorical_accuracy: 0.9205 0s - loss: 0.3422 - categorical_accuracy: 0. - ETA: 0s - loss: 0.3417 - categori - ETA: 0s - loss: 0.3381 - categorical_accuracy\n",
      "Epoch 158/500\n",
      "290/290 [==============================] - 5s 16ms/step - loss: 0.3391 - categorical_accuracy: 0.9196\n",
      "Epoch 159/500\n",
      "290/290 [==============================] - 5s 18ms/step - loss: 0.2575 - categorical_accuracy: 0.9371\n",
      "Epoch 160/500\n",
      "290/290 [==============================] - 5s 16ms/step - loss: 0.2903 - categorical_accuracy: 0.9278\n",
      "Epoch 161/500\n",
      "290/290 [==============================] - 7s 23ms/step - loss: 0.3068 - categorical_accuracy: 0.9237 3s - loss: 0.3075 - categorical_accura - ETA: 0s - loss: 0.3 - ETA: 0s - loss: 0.3068 - categorical_accuracy: 0.92\n",
      "Epoch 162/500\n",
      "290/290 [==============================] - 6s 19ms/step - loss: 0.3156 - categorical_accuracy: 0.9248\n",
      "Epoch 163/500\n",
      "290/290 [==============================] - 5s 16ms/step - loss: 0.3408 - categorical_accuracy: 0.9138  - ETA: 1s - l\n",
      "Epoch 164/500\n",
      "290/290 [==============================] - 5s 18ms/step - loss: 0.3038 - categorical_accuracy: 0.9288\n",
      "Epoch 165/500\n",
      "290/290 [==============================] - 5s 18ms/step - loss: 0.2659 - categorical_accuracy: 0.9352 4s - loss: 0.279 - ETA: 3s - loss: 0.2951 - cate - ETA: 4s - loss: 0.2923 -  - ETA: 1s - loss: 0.262\n",
      "Epoch 166/500\n",
      "290/290 [==============================] - 5s 18ms/step - loss: 0.3774 - categorical_accuracy: 0.9083 0s - loss: 0.3778 - categorical_accuracy\n",
      "Epoch 167/500\n",
      "290/290 [==============================] - 5s 16ms/step - loss: 0.2608 - categorical_accuracy: 0.9351\n",
      "Epoch 168/500\n",
      "290/290 [==============================] - 5s 18ms/step - loss: 0.4342 - categorical_accuracy: 0.8942\n",
      "Epoch 169/500\n",
      "290/290 [==============================] - 5s 18ms/step - loss: 0.2713 - categorical_accuracy: 0.9356 2s - loss: 0.2830  - ETA: 1s - loss: 0.2820 - categorical_accu - ETA: 1s - loss: 0.2776 - \n",
      "Epoch 170/500\n",
      "290/290 [==============================] - 5s 16ms/step - loss: 0.3193 - categorical_accuracy: 0.9249A: 0s - loss: 0.3270 - cate\n",
      "Epoch 171/500\n",
      "290/290 [==============================] - 6s 20ms/step - loss: 0.3542 - categorical_accuracy: 0.9165\n",
      "Epoch 172/500\n",
      "290/290 [==============================] - 5s 16ms/step - loss: 0.2726 - categorical_accuracy: 0.9325\n",
      "Epoch 173/500\n",
      "290/290 [==============================] - 6s 20ms/step - loss: 0.3172 - categorical_accuracy: 0.9216 1s - loss:\n",
      "Epoch 174/500\n",
      "290/290 [==============================] - 6s 20ms/step - loss: 0.3234 - categorical_accuracy: 0.9217 0s - loss: 0.3280 - categorical_ - ETA: 0s - loss: 0.3231 - categorical_accuracy: \n",
      "Epoch 175/500\n",
      "290/290 [==============================] - 5s 17ms/step - loss: 0.2575 - categorical_accuracy: 0.9376\n",
      "Epoch 176/500\n",
      "290/290 [==============================] - 5s 18ms/step - loss: 0.2435 - categorical_accuracy: 0.9405\n",
      "Epoch 177/500\n",
      "290/290 [==============================] - 6s 21ms/step - loss: 0.3980 - categorical_accuracy: 0.9109 6s - loss: 0.9368 -  - ETA: 2s - loss: 0.4398 -  - ETA: 1s - loss: 0.4190 - categorical_accuracy: 0.90 - ETA: 1s - loss: 0.4\n",
      "Epoch 178/500\n",
      "290/290 [==============================] - 5s 16ms/step - loss: 0.3688 - categorical_accuracy: 0.9142 0s - loss: 0.3745 - categorical_accu\n",
      "Epoch 179/500\n",
      "290/290 [==============================] - 5s 19ms/step - loss: 0.2508 - categorical_accuracy: 0.9386\n",
      "Epoch 180/500\n",
      "290/290 [==============================] - 7s 23ms/step - loss: 0.2949 - categorical_accuracy: 0.9286 0s - los\n",
      "Epoch 181/500\n",
      "290/290 [==============================] - 6s 20ms/step - loss: 0.5773 - categorical_accuracy: 0.8763\n",
      "Epoch 182/500\n",
      "290/290 [==============================] - 7s 24ms/step - loss: 0.2980 - categorical_accuracy: 0.9259\n",
      "Epoch 183/500\n",
      "290/290 [==============================] - 5s 16ms/step - loss: 0.2847 - categorical_accuracy: 0.9311\n",
      "Epoch 184/500\n",
      "290/290 [==============================] - 6s 21ms/step - loss: 0.3580 - categorical_accuracy: 0.9163 1s - loss: 0.4023 - categori\n",
      "Epoch 185/500\n",
      "290/290 [==============================] - 6s 21ms/step - loss: 0.2853 - categorical_accuracy: 0.9290 3s - los - ETA: 4s - loss: 0.3062 - \n",
      "Epoch 186/500\n",
      "290/290 [==============================] - 6s 20ms/step - loss: 0.2984 - categorical_accuracy: 0.9286\n",
      "Epoch 187/500\n",
      "290/290 [==============================] - 5s 16ms/step - loss: 0.2618 - categorical_accuracy: 0.9361\n",
      "Epoch 188/500\n",
      "290/290 [==============================] - 7s 25ms/step - loss: 0.2983 - categorical_accuracy: 0.9279 4s - loss: 0.2485 - categorical_accuracy:  - ETA: 5s - ETA: 4s - loss: 0.2635 - categorical_accuracy:  -\n",
      "Epoch 189/500\n",
      "290/290 [==============================] - 5s 16ms/step - loss: 0.3814 - categorical_accuracy: 0.9051\n",
      "Epoch 190/500\n",
      "290/290 [==============================] - 5s 16ms/step - loss: 0.2946 - categorical_accuracy: 0.9246\n",
      "Epoch 191/500\n",
      "290/290 [==============================] - 6s 20ms/step - loss: 0.4376 - categorical_accuracy: 0.9016\n",
      "Epoch 192/500\n",
      "290/290 [==============================] - 7s 23ms/step - loss: 0.2775 - categorical_accuracy: 0.9328 3s - loss: 0.2755 - categorical_accuracy: 0.93 - ETA: 4s - loss: 0.2731 - \n",
      "Epoch 193/500\n",
      "290/290 [==============================] - 6s 20ms/step - loss: 0.2613 - categorical_accuracy: 0.9331  - ETA: 1s - loss: 0.2607 \n",
      "Epoch 194/500\n",
      "290/290 [==============================] - 5s 17ms/step - loss: 0.3213 - categorical_accuracy: 0.9190\n",
      "Epoch 195/500\n",
      "290/290 [==============================] - 9s 32ms/step - loss: 0.4205 - categorical_accuracy: 0.8975\n",
      "Epoch 196/500\n",
      "290/290 [==============================] - 5s 18ms/step - loss: 0.2680 - categorical_accuracy: 0.9344\n",
      "Epoch 197/500\n",
      "290/290 [==============================] - 5s 19ms/step - loss: 0.2578 - categorical_accuracy: 0.9361\n",
      "Epoch 198/500\n",
      "290/290 [==============================] - 5s 19ms/step - loss: 0.3691 - categorical_accuracy: 0.9153\n",
      "Epoch 199/500\n",
      "290/290 [==============================] - 6s 20ms/step - loss: 0.2783 - categorical_accuracy: 0.9316\n",
      "Epoch 200/500\n",
      "290/290 [==============================] - 6s 20ms/step - loss: 0.2991 - categorical_accuracy: 0.9284\n",
      "Epoch 201/500\n",
      "290/290 [==============================] - 5s 18ms/step - loss: 0.2613 - categorical_accuracy: 0.9360\n",
      "Epoch 202/500\n",
      "290/290 [==============================] - 5s 18ms/step - loss: 0.3399 - categorical_accuracy: 0.9166\n",
      "Epoch 203/500\n",
      "290/290 [==============================] - 6s 19ms/step - loss: 0.3449 - categorical_accuracy: 0.9166\n",
      "Epoch 204/500\n",
      "290/290 [==============================] - 5s 18ms/step - loss: 0.2643 - categorical_accuracy: 0.9348 4s - l\n",
      "Epoch 205/500\n",
      "290/290 [==============================] - 6s 19ms/step - loss: 0.3772 - categorical_accuracy: 0.9085\n",
      "Epoch 206/500\n",
      "290/290 [==============================] - 6s 22ms/step - loss: 0.2784 - categorical_accuracy: 0.9329\n",
      "Epoch 207/500\n",
      "290/290 [==============================] - 5s 19ms/step - loss: 0.3060 - categorical_accuracy: 0.9267\n",
      "Epoch 208/500\n",
      "290/290 [==============================] - 6s 22ms/step - loss: 0.2957 - categorical_accuracy: 0.9297\n",
      "Epoch 209/500\n",
      "290/290 [==============================] - 6s 22ms/step - loss: 0.2592 - categorical_accuracy: 0.9365\n",
      "Epoch 210/500\n",
      "290/290 [==============================] - 6s 19ms/step - loss: 0.3391 - categorical_accuracy: 0.9181\n",
      "Epoch 211/500\n",
      "290/290 [==============================] - 5s 19ms/step - loss: 0.2523 - categorical_accuracy: 0.9389\n",
      "Epoch 212/500\n",
      "290/290 [==============================] - 6s 22ms/step - loss: 0.3387 - categorical_accuracy: 0.9166 0s - loss: 0.3429 - categorica\n",
      "Epoch 213/500\n",
      "290/290 [==============================] - 6s 22ms/step - loss: 0.2553 - categorical_accuracy: 0.9365\n",
      "Epoch 214/500\n",
      "290/290 [==============================] - 6s 22ms/step - loss: 0.3459 - categorical_accuracy: 0.9208\n",
      "Epoch 215/500\n",
      "290/290 [==============================] - 6s 21ms/step - loss: 0.3920 - categorical_accuracy: 0.9091\n",
      "Epoch 216/500\n",
      "290/290 [==============================] - 6s 22ms/step - loss: 0.2895 - categorical_accuracy: 0.9274\n",
      "Epoch 217/500\n",
      "290/290 [==============================] - 6s 22ms/step - loss: 0.2693 - categorical_accuracy: 0.9344\n",
      "Epoch 218/500\n"
     ]
    },
    {
     "name": "stdout",
     "output_type": "stream",
     "text": [
      "290/290 [==============================] - 6s 22ms/step - loss: 0.2896 - categorical_accuracy: 0.9295\n",
      "Epoch 219/500\n",
      "290/290 [==============================] - 6s 22ms/step - loss: 0.2426 - categorical_accuracy: 0.9413\n",
      "Epoch 220/500\n",
      "290/290 [==============================] - 6s 22ms/step - loss: 0.3013 - categorical_accuracy: 0.9260\n",
      "Epoch 221/500\n",
      "290/290 [==============================] - 7s 23ms/step - loss: 0.3318 - categorical_accuracy: 0.9207\n",
      "Epoch 222/500\n",
      "290/290 [==============================] - 6s 20ms/step - loss: 0.2433 - categorical_accuracy: 0.9404\n",
      "Epoch 223/500\n",
      "290/290 [==============================] - 6s 21ms/step - loss: 0.3668 - categorical_accuracy: 0.9126\n",
      "Epoch 224/500\n",
      "290/290 [==============================] - 6s 19ms/step - loss: 0.2857 - categorical_accuracy: 0.9305\n",
      "Epoch 225/500\n",
      "290/290 [==============================] - 6s 20ms/step - loss: 0.3794 - categorical_accuracy: 0.9149\n",
      "Epoch 226/500\n",
      "290/290 [==============================] - 6s 21ms/step - loss: 0.2560 - categorical_accuracy: 0.9385\n",
      "Epoch 227/500\n",
      "290/290 [==============================] - 6s 21ms/step - loss: 0.2856 - categorical_accuracy: 0.9286\n",
      "Epoch 228/500\n",
      "290/290 [==============================] - 6s 22ms/step - loss: 0.2746 - categorical_accuracy: 0.9320\n",
      "Epoch 229/500\n",
      "290/290 [==============================] - 6s 21ms/step - loss: 0.4163 - categorical_accuracy: 0.9156\n",
      "Epoch 230/500\n",
      "290/290 [==============================] - 6s 21ms/step - loss: 0.3230 - categorical_accuracy: 0.9179\n",
      "Epoch 231/500\n",
      "290/290 [==============================] - 6s 21ms/step - loss: 0.2893 - categorical_accuracy: 0.9328\n",
      "Epoch 232/500\n",
      "290/290 [==============================] - 6s 19ms/step - loss: 0.2593 - categorical_accuracy: 0.9353\n",
      "Epoch 233/500\n",
      "290/290 [==============================] - 6s 19ms/step - loss: 0.2375 - categorical_accuracy: 0.9425\n",
      "Epoch 234/500\n",
      "290/290 [==============================] - 6s 22ms/step - loss: 0.2505 - categorical_accuracy: 0.9386 0s - loss: 0.2502 - categorical_accuracy: \n",
      "Epoch 235/500\n",
      "290/290 [==============================] - 6s 22ms/step - loss: 0.3449 - categorical_accuracy: 0.9176\n",
      "Epoch 236/500\n",
      "290/290 [==============================] - 6s 21ms/step - loss: 0.2541 - categorical_accuracy: 0.9373\n",
      "Epoch 237/500\n",
      "290/290 [==============================] - 6s 22ms/step - loss: 0.2728 - categorical_accuracy: 0.9319\n",
      "Epoch 238/500\n",
      "290/290 [==============================] - 6s 22ms/step - loss: 0.3073 - categorical_accuracy: 0.9244\n",
      "Epoch 239/500\n",
      "290/290 [==============================] - 6s 22ms/step - loss: 0.3118 - categorical_accuracy: 0.9235\n",
      "Epoch 240/500\n",
      "290/290 [==============================] - 6s 22ms/step - loss: 0.2440 - categorical_accuracy: 0.9406\n",
      "Epoch 241/500\n",
      "290/290 [==============================] - 6s 20ms/step - loss: 0.3086 - categorical_accuracy: 0.9310\n",
      "Epoch 242/500\n",
      "290/290 [==============================] - 6s 19ms/step - loss: 0.3520 - categorical_accuracy: 0.9216\n",
      "Epoch 243/500\n",
      "290/290 [==============================] - 6s 21ms/step - loss: 0.2852 - categorical_accuracy: 0.9284\n",
      "Epoch 244/500\n",
      "290/290 [==============================] - 5s 19ms/step - loss: 0.2415 - categorical_accuracy: 0.9408\n",
      "Epoch 245/500\n",
      "290/290 [==============================] - 6s 21ms/step - loss: 0.3764 - categorical_accuracy: 0.9145\n",
      "Epoch 246/500\n",
      "290/290 [==============================] - 6s 22ms/step - loss: 0.2665 - categorical_accuracy: 0.9341\n",
      "Epoch 247/500\n",
      "290/290 [==============================] - 5s 18ms/step - loss: 0.3038 - categorical_accuracy: 0.9282\n",
      "Epoch 248/500\n",
      "290/290 [==============================] - 6s 19ms/step - loss: 0.3130 - categorical_accuracy: 0.9230\n",
      "Epoch 249/500\n",
      "290/290 [==============================] - 6s 22ms/step - loss: 0.2371 - categorical_accuracy: 0.9426\n",
      "Epoch 250/500\n",
      "290/290 [==============================] - 6s 21ms/step - loss: 0.2699 - categorical_accuracy: 0.9335 0s - loss: 0.2744 - ca\n",
      "Epoch 251/500\n",
      "290/290 [==============================] - 6s 22ms/step - loss: 0.4964 - categorical_accuracy: 0.8909\n",
      "Epoch 252/500\n",
      "290/290 [==============================] - 6s 22ms/step - loss: 0.2898 - categorical_accuracy: 0.9297\n",
      "Epoch 253/500\n",
      "290/290 [==============================] - 6s 22ms/step - loss: 0.2841 - categorical_accuracy: 0.9319\n",
      "Epoch 254/500\n",
      "290/290 [==============================] - 6s 22ms/step - loss: 0.2604 - categorical_accuracy: 0.9367\n",
      "Epoch 255/500\n",
      "290/290 [==============================] - 6s 22ms/step - loss: 0.2565 - categorical_accuracy: 0.9359\n",
      "Epoch 256/500\n",
      "290/290 [==============================] - 6s 20ms/step - loss: 0.3107 - categorical_accuracy: 0.9272\n",
      "Epoch 257/500\n",
      "290/290 [==============================] - 6s 21ms/step - loss: 0.2659 - categorical_accuracy: 0.9353\n",
      "Epoch 258/500\n",
      "290/290 [==============================] - 6s 19ms/step - loss: 0.2986 - categorical_accuracy: 0.9281\n",
      "Epoch 259/500\n",
      "290/290 [==============================] - 6s 20ms/step - loss: 0.2911 - categorical_accuracy: 0.9311\n",
      "Epoch 260/500\n",
      "290/290 [==============================] - 6s 21ms/step - loss: 0.2486 - categorical_accuracy: 0.9397\n",
      "Epoch 261/500\n",
      "290/290 [==============================] - 6s 22ms/step - loss: 0.2317 - categorical_accuracy: 0.9435\n",
      "Epoch 262/500\n",
      "290/290 [==============================] - 6s 22ms/step - loss: 0.3317 - categorical_accuracy: 0.9203\n",
      "Epoch 263/500\n",
      "290/290 [==============================] - 6s 22ms/step - loss: 0.3189 - categorical_accuracy: 0.9259\n",
      "Epoch 264/500\n",
      "290/290 [==============================] - 6s 22ms/step - loss: 0.2755 - categorical_accuracy: 0.9339\n",
      "Epoch 265/500\n",
      "290/290 [==============================] - 6s 22ms/step - loss: 0.2539 - categorical_accuracy: 0.9400\n",
      "Epoch 266/500\n",
      "290/290 [==============================] - 6s 22ms/step - loss: 0.2650 - categorical_accuracy: 0.9362\n",
      "Epoch 267/500\n",
      "290/290 [==============================] - 6s 22ms/step - loss: 0.3235 - categorical_accuracy: 0.9237\n",
      "Epoch 268/500\n",
      "290/290 [==============================] - 6s 21ms/step - loss: 0.3269 - categorical_accuracy: 0.9298\n",
      "Epoch 269/500\n",
      "290/290 [==============================] - 6s 21ms/step - loss: 0.2640 - categorical_accuracy: 0.9355\n",
      "Epoch 270/500\n",
      "290/290 [==============================] - 6s 22ms/step - loss: 0.2356 - categorical_accuracy: 0.9434\n",
      "Epoch 271/500\n",
      "290/290 [==============================] - 6s 21ms/step - loss: 0.3174 - categorical_accuracy: 0.9266\n",
      "Epoch 272/500\n",
      "290/290 [==============================] - 5s 19ms/step - loss: 0.3261 - categorical_accuracy: 0.9189\n",
      "Epoch 273/500\n",
      "290/290 [==============================] - 6s 20ms/step - loss: 0.2391 - categorical_accuracy: 0.9427\n",
      "Epoch 274/500\n",
      "290/290 [==============================] - 5s 19ms/step - loss: 0.2527 - categorical_accuracy: 0.9386\n",
      "Epoch 275/500\n",
      "290/290 [==============================] - 5s 19ms/step - loss: 0.2632 - categorical_accuracy: 0.9376\n",
      "Epoch 276/500\n",
      "290/290 [==============================] - 6s 21ms/step - loss: 0.3213 - categorical_accuracy: 0.9254\n",
      "Epoch 277/500\n",
      "290/290 [==============================] - 6s 22ms/step - loss: 0.2612 - categorical_accuracy: 0.9376\n",
      "Epoch 278/500\n",
      "290/290 [==============================] - 6s 22ms/step - loss: 0.2894 - categorical_accuracy: 0.9309\n",
      "Epoch 279/500\n",
      "290/290 [==============================] - 6s 22ms/step - loss: 0.2576 - categorical_accuracy: 0.9375\n",
      "Epoch 280/500\n",
      "290/290 [==============================] - 6s 22ms/step - loss: 0.2820 - categorical_accuracy: 0.9317\n",
      "Epoch 281/500\n",
      "290/290 [==============================] - 6s 22ms/step - loss: 0.3059 - categorical_accuracy: 0.9269\n",
      "Epoch 282/500\n",
      "290/290 [==============================] - 6s 22ms/step - loss: 0.2851 - categorical_accuracy: 0.9323\n",
      "Epoch 283/500\n",
      "290/290 [==============================] - 6s 22ms/step - loss: 0.3489 - categorical_accuracy: 0.9166\n",
      "Epoch 284/500\n",
      "290/290 [==============================] - 6s 22ms/step - loss: 0.2684 - categorical_accuracy: 0.9345\n",
      "Epoch 285/500\n",
      "290/290 [==============================] - 6s 22ms/step - loss: 0.2370 - categorical_accuracy: 0.9429\n",
      "Epoch 286/500\n",
      "290/290 [==============================] - 6s 22ms/step - loss: 0.2401 - categorical_accuracy: 0.9413 0s - loss: 0.2407 - categori\n",
      "Epoch 287/500\n",
      "290/290 [==============================] - 6s 22ms/step - loss: 0.3548 - categorical_accuracy: 0.9207\n",
      "Epoch 288/500\n",
      "290/290 [==============================] - 6s 22ms/step - loss: 0.2817 - categorical_accuracy: 0.9327\n",
      "Epoch 289/500\n",
      "290/290 [==============================] - 6s 22ms/step - loss: 0.2861 - categorical_accuracy: 0.9310\n",
      "Epoch 290/500\n",
      "290/290 [==============================] - 6s 22ms/step - loss: 0.2371 - categorical_accuracy: 0.9427\n",
      "Epoch 291/500\n",
      "290/290 [==============================] - 6s 22ms/step - loss: 0.2267 - categorical_accuracy: 0.9452\n",
      "Epoch 292/500\n",
      "290/290 [==============================] - 6s 22ms/step - loss: 0.3091 - categorical_accuracy: 0.9249\n",
      "Epoch 293/500\n",
      "290/290 [==============================] - 6s 21ms/step - loss: 0.2430 - categorical_accuracy: 0.9408\n",
      "Epoch 294/500\n",
      "290/290 [==============================] - 6s 20ms/step - loss: 0.4503 - categorical_accuracy: 0.9015\n",
      "Epoch 295/500\n",
      "290/290 [==============================] - 6s 21ms/step - loss: 0.2586 - categorical_accuracy: 0.9395\n",
      "Epoch 296/500\n",
      "290/290 [==============================] - 6s 21ms/step - loss: 0.2480 - categorical_accuracy: 0.9397\n",
      "Epoch 297/500\n",
      "290/290 [==============================] - 6s 19ms/step - loss: 0.3708 - categorical_accuracy: 0.9156\n",
      "Epoch 298/500\n",
      "290/290 [==============================] - 6s 19ms/step - loss: 0.3175 - categorical_accuracy: 0.9228\n",
      "Epoch 299/500\n",
      "290/290 [==============================] - 6s 19ms/step - loss: 0.2798 - categorical_accuracy: 0.9322\n",
      "Epoch 300/500\n",
      "290/290 [==============================] - 6s 22ms/step - loss: 0.2868 - categorical_accuracy: 0.9321\n",
      "Epoch 301/500\n",
      "290/290 [==============================] - 6s 22ms/step - loss: 0.2748 - categorical_accuracy: 0.9330\n",
      "Epoch 302/500\n",
      "290/290 [==============================] - 6s 22ms/step - loss: 0.3564 - categorical_accuracy: 0.9185\n",
      "Epoch 303/500\n",
      "290/290 [==============================] - 6s 21ms/step - loss: 0.2383 - categorical_accuracy: 0.9420 1s - los\n",
      "Epoch 304/500\n",
      "290/290 [==============================] - 6s 22ms/step - loss: 0.2339 - categorical_accuracy: 0.9441\n",
      "Epoch 305/500\n",
      "290/290 [==============================] - 6s 22ms/step - loss: 0.3780 - categorical_accuracy: 0.9151\n",
      "Epoch 306/500\n",
      "290/290 [==============================] - 6s 22ms/step - loss: 0.2808 - categorical_accuracy: 0.9328\n",
      "Epoch 307/500\n",
      "290/290 [==============================] - 6s 22ms/step - loss: 0.2476 - categorical_accuracy: 0.9399\n",
      "Epoch 308/500\n",
      "290/290 [==============================] - 6s 22ms/step - loss: 0.2331 - categorical_accuracy: 0.9438\n",
      "Epoch 309/500\n",
      "290/290 [==============================] - 6s 22ms/step - loss: 0.3133 - categorical_accuracy: 0.9291\n",
      "Epoch 310/500\n",
      "290/290 [==============================] - 6s 21ms/step - loss: 0.2565 - categorical_accuracy: 0.9375\n",
      "Epoch 311/500\n",
      "290/290 [==============================] - 6s 21ms/step - loss: 0.2786 - categorical_accuracy: 0.9324\n",
      "Epoch 312/500\n",
      "290/290 [==============================] - 6s 22ms/step - loss: 0.2345 - categorical_accuracy: 0.9431 1s - loss:\n",
      "Epoch 313/500\n",
      "290/290 [==============================] - 6s 21ms/step - loss: 0.4316 - categorical_accuracy: 0.9112\n",
      "Epoch 314/500\n",
      "290/290 [==============================] - 6s 19ms/step - loss: 0.3003 - categorical_accuracy: 0.9310\n",
      "Epoch 315/500\n",
      "290/290 [==============================] - 6s 19ms/step - loss: 0.2605 - categorical_accuracy: 0.9381\n",
      "Epoch 316/500\n",
      "290/290 [==============================] - 6s 19ms/step - loss: 0.2727 - categorical_accuracy: 0.9337\n",
      "Epoch 317/500\n",
      "290/290 [==============================] - 6s 22ms/step - loss: 0.3647 - categorical_accuracy: 0.9206\n",
      "Epoch 318/500\n",
      "290/290 [==============================] - 6s 22ms/step - loss: 0.2575 - categorical_accuracy: 0.9379\n",
      "Epoch 319/500\n",
      "290/290 [==============================] - 6s 22ms/step - loss: 0.2780 - categorical_accuracy: 0.9352\n",
      "Epoch 320/500\n",
      "290/290 [==============================] - 6s 22ms/step - loss: 0.2456 - categorical_accuracy: 0.9403\n",
      "Epoch 321/500\n",
      "290/290 [==============================] - 6s 22ms/step - loss: 0.2337 - categorical_accuracy: 0.9431\n",
      "Epoch 322/500\n",
      "290/290 [==============================] - 6s 22ms/step - loss: 0.3482 - categorical_accuracy: 0.9235\n",
      "Epoch 323/500\n",
      "290/290 [==============================] - 6s 21ms/step - loss: 0.3234 - categorical_accuracy: 0.9262\n",
      "Epoch 324/500\n",
      "290/290 [==============================] - 6s 22ms/step - loss: 0.2949 - categorical_accuracy: 0.9291\n",
      "Epoch 325/500\n",
      "290/290 [==============================] - 6s 22ms/step - loss: 0.2448 - categorical_accuracy: 0.9412\n",
      "Epoch 326/500\n",
      "290/290 [==============================] - 6s 22ms/step - loss: 0.2584 - categorical_accuracy: 0.9373\n",
      "Epoch 327/500\n",
      "290/290 [==============================] - 6s 22ms/step - loss: 0.3830 - categorical_accuracy: 0.9165\n",
      "Epoch 328/500\n",
      "290/290 [==============================] - 6s 21ms/step - loss: 0.2702 - categorical_accuracy: 0.9346\n",
      "Epoch 329/500\n",
      "290/290 [==============================] - 6s 22ms/step - loss: 0.3005 - categorical_accuracy: 0.9286\n",
      "Epoch 330/500\n",
      "290/290 [==============================] - 6s 21ms/step - loss: 0.3052 - categorical_accuracy: 0.9298 0s - loss: 0.3090 - categorica\n",
      "Epoch 331/500\n",
      "290/290 [==============================] - 6s 22ms/step - loss: 0.2473 - categorical_accuracy: 0.9394\n",
      "Epoch 332/500\n",
      "290/290 [==============================] - 6s 21ms/step - loss: 0.2863 - categorical_accuracy: 0.9317\n",
      "Epoch 333/500\n",
      "290/290 [==============================] - 6s 22ms/step - loss: 0.2532 - categorical_accuracy: 0.9404\n",
      "Epoch 334/500\n",
      "290/290 [==============================] - 6s 22ms/step - loss: 0.2326 - categorical_accuracy: 0.9442\n",
      "Epoch 335/500\n",
      "290/290 [==============================] - 6s 22ms/step - loss: 0.4080 - categorical_accuracy: 0.9115\n",
      "Epoch 336/500\n",
      "290/290 [==============================] - 6s 22ms/step - loss: 0.2348 - categorical_accuracy: 0.9429\n",
      "Epoch 337/500\n",
      "290/290 [==============================] - 6s 22ms/step - loss: 0.3260 - categorical_accuracy: 0.9241\n",
      "Epoch 338/500\n",
      "290/290 [==============================] - 6s 22ms/step - loss: 0.3234 - categorical_accuracy: 0.9221\n",
      "Epoch 339/500\n",
      "290/290 [==============================] - 6s 22ms/step - loss: 0.2428 - categorical_accuracy: 0.9412\n",
      "Epoch 340/500\n",
      "290/290 [==============================] - 6s 22ms/step - loss: 0.2543 - categorical_accuracy: 0.9365\n",
      "Epoch 341/500\n",
      "290/290 [==============================] - 6s 22ms/step - loss: 0.3076 - categorical_accuracy: 0.9265\n",
      "Epoch 342/500\n",
      "290/290 [==============================] - 6s 22ms/step - loss: 0.2586 - categorical_accuracy: 0.9377\n",
      "Epoch 343/500\n",
      "290/290 [==============================] - 6s 22ms/step - loss: 0.2530 - categorical_accuracy: 0.9387\n",
      "Epoch 344/500\n",
      "290/290 [==============================] - 6s 22ms/step - loss: 0.3122 - categorical_accuracy: 0.9237\n",
      "Epoch 345/500\n",
      "290/290 [==============================] - 6s 21ms/step - loss: 0.2749 - categorical_accuracy: 0.9333\n",
      "Epoch 346/500\n",
      "290/290 [==============================] - 6s 22ms/step - loss: 0.2456 - categorical_accuracy: 0.9407\n",
      "Epoch 347/500\n",
      "290/290 [==============================] - 6s 21ms/step - loss: 0.3938 - categorical_accuracy: 0.9111\n",
      "Epoch 348/500\n",
      "290/290 [==============================] - 6s 20ms/step - loss: 0.2595 - categorical_accuracy: 0.9364\n",
      "Epoch 349/500\n",
      "290/290 [==============================] - 6s 19ms/step - loss: 0.2453 - categorical_accuracy: 0.9398\n",
      "Epoch 350/500\n",
      "290/290 [==============================] - 6s 19ms/step - loss: 0.2284 - categorical_accuracy: 0.9454\n",
      "Epoch 351/500\n",
      "290/290 [==============================] - 5s 18ms/step - loss: 0.2620 - categorical_accuracy: 0.9378\n",
      "Epoch 352/500\n",
      "290/290 [==============================] - 5s 18ms/step - loss: 0.3981 - categorical_accuracy: 0.9112\n",
      "Epoch 353/500\n",
      "290/290 [==============================] - 5s 18ms/step - loss: 0.2688 - categorical_accuracy: 0.9357\n",
      "Epoch 354/500\n",
      "290/290 [==============================] - 5s 18ms/step - loss: 0.2656 - categorical_accuracy: 0.9351\n",
      "Epoch 355/500\n",
      "290/290 [==============================] - 5s 18ms/step - loss: 0.2453 - categorical_accuracy: 0.9404\n",
      "Epoch 356/500\n",
      "290/290 [==============================] - 5s 18ms/step - loss: 0.2786 - categorical_accuracy: 0.9375\n",
      "Epoch 357/500\n"
     ]
    },
    {
     "name": "stdout",
     "output_type": "stream",
     "text": [
      "290/290 [==============================] - 5s 18ms/step - loss: 0.2662 - categorical_accuracy: 0.9331\n",
      "Epoch 358/500\n",
      "290/290 [==============================] - 5s 18ms/step - loss: 0.2762 - categorical_accuracy: 0.9343\n",
      "Epoch 359/500\n",
      "290/290 [==============================] - 5s 18ms/step - loss: 0.2917 - categorical_accuracy: 0.9303\n",
      "Epoch 360/500\n",
      "290/290 [==============================] - 5s 18ms/step - loss: 0.2660 - categorical_accuracy: 0.9370\n",
      "Epoch 361/500\n",
      "290/290 [==============================] - 5s 18ms/step - loss: 0.2432 - categorical_accuracy: 0.9413\n",
      "Epoch 362/500\n",
      "290/290 [==============================] - 5s 18ms/step - loss: 0.3298 - categorical_accuracy: 0.9205\n",
      "Epoch 363/500\n",
      "290/290 [==============================] - 5s 18ms/step - loss: 0.2501 - categorical_accuracy: 0.9403\n",
      "Epoch 364/500\n",
      "290/290 [==============================] - 5s 18ms/step - loss: 0.3430 - categorical_accuracy: 0.9254\n",
      "Epoch 365/500\n",
      "290/290 [==============================] - 5s 18ms/step - loss: 0.3305 - categorical_accuracy: 0.9180\n",
      "Epoch 366/500\n",
      "290/290 [==============================] - 5s 18ms/step - loss: 0.3244 - categorical_accuracy: 0.9262\n",
      "Epoch 367/500\n",
      "290/290 [==============================] - 5s 18ms/step - loss: 0.2394 - categorical_accuracy: 0.9428\n",
      "Epoch 368/500\n",
      "290/290 [==============================] - 5s 18ms/step - loss: 0.2333 - categorical_accuracy: 0.9433\n",
      "Epoch 369/500\n",
      "290/290 [==============================] - 5s 18ms/step - loss: 0.2774 - categorical_accuracy: 0.9358\n",
      "Epoch 370/500\n",
      "290/290 [==============================] - 5s 18ms/step - loss: 0.3279 - categorical_accuracy: 0.9200\n",
      "Epoch 371/500\n",
      "290/290 [==============================] - 5s 18ms/step - loss: 0.2560 - categorical_accuracy: 0.9388\n",
      "Epoch 372/500\n",
      "290/290 [==============================] - 5s 18ms/step - loss: 0.2958 - categorical_accuracy: 0.9304\n",
      "Epoch 373/500\n",
      "290/290 [==============================] - 5s 18ms/step - loss: 0.2815 - categorical_accuracy: 0.9333\n",
      "Epoch 374/500\n",
      "290/290 [==============================] - 5s 18ms/step - loss: 0.3470 - categorical_accuracy: 0.9184\n",
      "Epoch 375/500\n",
      "290/290 [==============================] - 5s 18ms/step - loss: 0.2550 - categorical_accuracy: 0.9390\n",
      "Epoch 376/500\n",
      "290/290 [==============================] - 5s 18ms/step - loss: 0.3110 - categorical_accuracy: 0.9283\n",
      "Epoch 377/500\n",
      "290/290 [==============================] - 5s 18ms/step - loss: 0.2315 - categorical_accuracy: 0.9442\n",
      "Epoch 378/500\n",
      "290/290 [==============================] - 5s 18ms/step - loss: 0.2552 - categorical_accuracy: 0.9394\n",
      "Epoch 379/500\n",
      "290/290 [==============================] - 5s 18ms/step - loss: 0.2446 - categorical_accuracy: 0.9398\n",
      "Epoch 380/500\n",
      "290/290 [==============================] - 5s 18ms/step - loss: 0.2623 - categorical_accuracy: 0.9390\n",
      "Epoch 381/500\n",
      "290/290 [==============================] - 5s 18ms/step - loss: 0.2944 - categorical_accuracy: 0.9275\n",
      "Epoch 382/500\n",
      "290/290 [==============================] - 5s 18ms/step - loss: 0.2570 - categorical_accuracy: 0.9372\n",
      "Epoch 383/500\n",
      "290/290 [==============================] - 5s 18ms/step - loss: 0.2619 - categorical_accuracy: 0.9353\n",
      "Epoch 384/500\n",
      "290/290 [==============================] - 5s 18ms/step - loss: 0.2703 - categorical_accuracy: 0.9384\n",
      "Epoch 385/500\n",
      "290/290 [==============================] - 5s 18ms/step - loss: 0.3526 - categorical_accuracy: 0.9208\n",
      "Epoch 386/500\n",
      "290/290 [==============================] - 5s 18ms/step - loss: 0.2562 - categorical_accuracy: 0.9378\n",
      "Epoch 387/500\n",
      "290/290 [==============================] - 5s 18ms/step - loss: 0.2763 - categorical_accuracy: 0.9334\n",
      "Epoch 388/500\n",
      "290/290 [==============================] - 5s 18ms/step - loss: 0.2478 - categorical_accuracy: 0.9394\n",
      "Epoch 389/500\n",
      "290/290 [==============================] - 5s 18ms/step - loss: 0.4623 - categorical_accuracy: 0.8955\n",
      "Epoch 390/500\n",
      "290/290 [==============================] - 5s 18ms/step - loss: 0.2754 - categorical_accuracy: 0.9336\n",
      "Epoch 391/500\n",
      "290/290 [==============================] - 5s 18ms/step - loss: 0.2660 - categorical_accuracy: 0.9349\n",
      "Epoch 392/500\n",
      "290/290 [==============================] - 5s 18ms/step - loss: 0.3330 - categorical_accuracy: 0.9203\n",
      "Epoch 393/500\n",
      "290/290 [==============================] - 5s 18ms/step - loss: 0.2638 - categorical_accuracy: 0.9356\n",
      "Epoch 394/500\n",
      "290/290 [==============================] - 5s 18ms/step - loss: 0.2673 - categorical_accuracy: 0.9359\n",
      "Epoch 395/500\n",
      "290/290 [==============================] - 5s 18ms/step - loss: 0.2436 - categorical_accuracy: 0.9418\n",
      "Epoch 396/500\n",
      "290/290 [==============================] - 5s 18ms/step - loss: 0.2321 - categorical_accuracy: 0.9435\n",
      "Epoch 397/500\n",
      "290/290 [==============================] - 5s 18ms/step - loss: 0.2364 - categorical_accuracy: 0.9428\n",
      "Epoch 398/500\n",
      "290/290 [==============================] - 5s 18ms/step - loss: 0.4021 - categorical_accuracy: 0.9122\n",
      "Epoch 399/500\n",
      "290/290 [==============================] - 5s 18ms/step - loss: 0.2672 - categorical_accuracy: 0.9348\n",
      "Epoch 400/500\n",
      "290/290 [==============================] - 5s 18ms/step - loss: 0.3114 - categorical_accuracy: 0.9274\n",
      "Epoch 401/500\n",
      "290/290 [==============================] - 5s 18ms/step - loss: 0.2431 - categorical_accuracy: 0.9418\n",
      "Epoch 402/500\n",
      "290/290 [==============================] - 5s 18ms/step - loss: 0.2608 - categorical_accuracy: 0.9377\n",
      "Epoch 403/500\n",
      "290/290 [==============================] - 5s 18ms/step - loss: 0.3292 - categorical_accuracy: 0.9232\n",
      "Epoch 404/500\n",
      "290/290 [==============================] - 5s 18ms/step - loss: 0.2405 - categorical_accuracy: 0.9423\n",
      "Epoch 405/500\n",
      "290/290 [==============================] - 5s 19ms/step - loss: 0.2361 - categorical_accuracy: 0.9433\n",
      "Epoch 406/500\n",
      "290/290 [==============================] - 5s 18ms/step - loss: 0.2512 - categorical_accuracy: 0.9389\n",
      "Epoch 407/500\n",
      "290/290 [==============================] - 5s 18ms/step - loss: 0.4633 - categorical_accuracy: 0.8885\n",
      "Epoch 408/500\n",
      "290/290 [==============================] - 5s 18ms/step - loss: 0.2581 - categorical_accuracy: 0.9369\n",
      "Epoch 409/500\n",
      "290/290 [==============================] - 5s 18ms/step - loss: 0.3325 - categorical_accuracy: 0.9248\n",
      "Epoch 410/500\n",
      "290/290 [==============================] - 5s 18ms/step - loss: 0.2365 - categorical_accuracy: 0.9430\n",
      "Epoch 411/500\n",
      "290/290 [==============================] - 5s 18ms/step - loss: 0.2804 - categorical_accuracy: 0.9371\n",
      "Epoch 412/500\n",
      "290/290 [==============================] - 5s 18ms/step - loss: 0.2654 - categorical_accuracy: 0.9351\n",
      "Epoch 413/500\n",
      "290/290 [==============================] - 5s 18ms/step - loss: 0.2476 - categorical_accuracy: 0.9408\n",
      "Epoch 414/500\n",
      "290/290 [==============================] - 5s 18ms/step - loss: 0.2389 - categorical_accuracy: 0.9429\n",
      "Epoch 415/500\n",
      "290/290 [==============================] - 5s 18ms/step - loss: 0.3054 - categorical_accuracy: 0.9281\n",
      "Epoch 416/500\n",
      "290/290 [==============================] - 5s 18ms/step - loss: 0.3154 - categorical_accuracy: 0.9248\n",
      "Epoch 417/500\n",
      "290/290 [==============================] - 5s 18ms/step - loss: 0.2342 - categorical_accuracy: 0.9444\n",
      "Epoch 418/500\n",
      "290/290 [==============================] - 5s 18ms/step - loss: 0.2701 - categorical_accuracy: 0.9344\n",
      "Epoch 419/500\n",
      "290/290 [==============================] - 5s 18ms/step - loss: 0.2438 - categorical_accuracy: 0.9402\n",
      "Epoch 420/500\n",
      "290/290 [==============================] - 5s 18ms/step - loss: 0.2647 - categorical_accuracy: 0.9364\n",
      "Epoch 421/500\n",
      "290/290 [==============================] - 5s 18ms/step - loss: 0.2514 - categorical_accuracy: 0.9384\n",
      "Epoch 422/500\n",
      "290/290 [==============================] - 5s 18ms/step - loss: 0.4406 - categorical_accuracy: 0.9045\n",
      "Epoch 423/500\n",
      "290/290 [==============================] - 5s 18ms/step - loss: 0.2451 - categorical_accuracy: 0.9407\n",
      "Epoch 424/500\n",
      "290/290 [==============================] - 5s 18ms/step - loss: 0.2457 - categorical_accuracy: 0.9421\n",
      "Epoch 425/500\n",
      "290/290 [==============================] - 5s 18ms/step - loss: 0.3691 - categorical_accuracy: 0.9153\n",
      "Epoch 426/500\n",
      "290/290 [==============================] - 5s 18ms/step - loss: 0.2750 - categorical_accuracy: 0.9347\n",
      "Epoch 427/500\n",
      "290/290 [==============================] - 5s 18ms/step - loss: 0.2521 - categorical_accuracy: 0.9391\n",
      "Epoch 428/500\n",
      "290/290 [==============================] - 5s 18ms/step - loss: 0.2386 - categorical_accuracy: 0.9420\n",
      "Epoch 429/500\n",
      "290/290 [==============================] - 5s 19ms/step - loss: 0.3330 - categorical_accuracy: 0.9241\n",
      "Epoch 430/500\n",
      "290/290 [==============================] - 5s 18ms/step - loss: 0.2519 - categorical_accuracy: 0.9404\n",
      "Epoch 431/500\n",
      "290/290 [==============================] - 5s 18ms/step - loss: 0.3162 - categorical_accuracy: 0.9255\n",
      "Epoch 432/500\n",
      "290/290 [==============================] - 5s 18ms/step - loss: 0.2393 - categorical_accuracy: 0.9420\n",
      "Epoch 433/500\n",
      "290/290 [==============================] - 5s 18ms/step - loss: 0.2632 - categorical_accuracy: 0.9337\n",
      "Epoch 434/500\n",
      "290/290 [==============================] - 5s 18ms/step - loss: 0.2608 - categorical_accuracy: 0.9367\n",
      "Epoch 435/500\n",
      "290/290 [==============================] - 5s 18ms/step - loss: 0.2856 - categorical_accuracy: 0.9322\n",
      "Epoch 436/500\n",
      "290/290 [==============================] - 5s 18ms/step - loss: 0.5171 - categorical_accuracy: 0.8859\n",
      "Epoch 437/500\n",
      "290/290 [==============================] - 5s 18ms/step - loss: 0.2599 - categorical_accuracy: 0.9358\n",
      "Epoch 438/500\n",
      "290/290 [==============================] - 5s 18ms/step - loss: 0.2479 - categorical_accuracy: 0.9399\n",
      "Epoch 439/500\n",
      "290/290 [==============================] - 5s 18ms/step - loss: 0.2317 - categorical_accuracy: 0.9439\n",
      "Epoch 440/500\n",
      "290/290 [==============================] - 5s 18ms/step - loss: 0.2397 - categorical_accuracy: 0.9418\n",
      "Epoch 441/500\n",
      "290/290 [==============================] - 5s 18ms/step - loss: 0.3201 - categorical_accuracy: 0.9306\n",
      "Epoch 442/500\n",
      "290/290 [==============================] - 5s 18ms/step - loss: 0.2752 - categorical_accuracy: 0.9296\n",
      "Epoch 443/500\n",
      "290/290 [==============================] - 5s 18ms/step - loss: 0.2799 - categorical_accuracy: 0.9342\n",
      "Epoch 444/500\n",
      "290/290 [==============================] - 5s 18ms/step - loss: 0.3216 - categorical_accuracy: 0.9235\n",
      "Epoch 445/500\n",
      "290/290 [==============================] - 5s 18ms/step - loss: 0.3812 - categorical_accuracy: 0.9081\n",
      "Epoch 446/500\n",
      "290/290 [==============================] - 5s 18ms/step - loss: 0.2579 - categorical_accuracy: 0.9377\n",
      "Epoch 447/500\n",
      "290/290 [==============================] - 5s 18ms/step - loss: 0.2528 - categorical_accuracy: 0.9402\n",
      "Epoch 448/500\n",
      "290/290 [==============================] - 5s 18ms/step - loss: 0.2838 - categorical_accuracy: 0.9298\n",
      "Epoch 449/500\n",
      "290/290 [==============================] - 5s 18ms/step - loss: 0.2485 - categorical_accuracy: 0.9401\n",
      "Epoch 450/500\n",
      "290/290 [==============================] - 5s 18ms/step - loss: 0.2633 - categorical_accuracy: 0.9363\n",
      "Epoch 451/500\n",
      "290/290 [==============================] - 5s 18ms/step - loss: 0.2338 - categorical_accuracy: 0.9434\n",
      "Epoch 452/500\n",
      "290/290 [==============================] - 5s 18ms/step - loss: 0.2288 - categorical_accuracy: 0.9448\n",
      "Epoch 453/500\n",
      "290/290 [==============================] - 5s 18ms/step - loss: 0.3451 - categorical_accuracy: 0.9193\n",
      "Epoch 454/500\n",
      "290/290 [==============================] - 5s 18ms/step - loss: 0.2594 - categorical_accuracy: 0.9381\n",
      "Epoch 455/500\n",
      "290/290 [==============================] - 5s 18ms/step - loss: 0.2404 - categorical_accuracy: 0.9427\n",
      "Epoch 456/500\n",
      "290/290 [==============================] - 5s 18ms/step - loss: 0.3801 - categorical_accuracy: 0.9185\n",
      "Epoch 457/500\n",
      "290/290 [==============================] - 5s 18ms/step - loss: 0.2633 - categorical_accuracy: 0.9357\n",
      "Epoch 458/500\n",
      "290/290 [==============================] - 5s 18ms/step - loss: 0.2389 - categorical_accuracy: 0.9417\n",
      "Epoch 459/500\n",
      "290/290 [==============================] - 5s 18ms/step - loss: 0.3539 - categorical_accuracy: 0.9234\n",
      "Epoch 460/500\n",
      "290/290 [==============================] - 5s 18ms/step - loss: 0.2682 - categorical_accuracy: 0.9359\n",
      "Epoch 461/500\n",
      "290/290 [==============================] - 5s 18ms/step - loss: 0.2733 - categorical_accuracy: 0.9335\n",
      "Epoch 462/500\n",
      "290/290 [==============================] - 5s 18ms/step - loss: 0.2318 - categorical_accuracy: 0.9440\n",
      "Epoch 463/500\n",
      "290/290 [==============================] - 5s 18ms/step - loss: 0.3227 - categorical_accuracy: 0.9240\n",
      "Epoch 464/500\n",
      "290/290 [==============================] - 5s 18ms/step - loss: 0.2424 - categorical_accuracy: 0.9416\n",
      "Epoch 465/500\n",
      "290/290 [==============================] - 5s 18ms/step - loss: 0.2987 - categorical_accuracy: 0.9307\n",
      "Epoch 466/500\n",
      "290/290 [==============================] - 5s 18ms/step - loss: 0.3231 - categorical_accuracy: 0.9230\n",
      "Epoch 467/500\n",
      "290/290 [==============================] - 5s 18ms/step - loss: 0.2303 - categorical_accuracy: 0.9446\n",
      "Epoch 468/500\n",
      "290/290 [==============================] - 5s 18ms/step - loss: 0.2331 - categorical_accuracy: 0.9439\n",
      "Epoch 469/500\n",
      "290/290 [==============================] - 5s 18ms/step - loss: 0.3067 - categorical_accuracy: 0.9323\n",
      "Epoch 470/500\n",
      "290/290 [==============================] - 5s 18ms/step - loss: 0.3516 - categorical_accuracy: 0.9248\n",
      "Epoch 471/500\n",
      "290/290 [==============================] - 5s 18ms/step - loss: 0.2850 - categorical_accuracy: 0.9314\n",
      "Epoch 472/500\n",
      "290/290 [==============================] - 6s 20ms/step - loss: 0.2363 - categorical_accuracy: 0.9426\n",
      "Epoch 473/500\n",
      "290/290 [==============================] - 6s 19ms/step - loss: 0.2274 - categorical_accuracy: 0.9450\n",
      "Epoch 474/500\n",
      "290/290 [==============================] - 6s 19ms/step - loss: 0.2499 - categorical_accuracy: 0.9403\n",
      "Epoch 475/500\n",
      "290/290 [==============================] - 5s 19ms/step - loss: 0.4127 - categorical_accuracy: 0.9117\n",
      "Epoch 476/500\n",
      "290/290 [==============================] - 5s 19ms/step - loss: 0.3070 - categorical_accuracy: 0.9328\n",
      "Epoch 477/500\n",
      "290/290 [==============================] - 5s 18ms/step - loss: 0.3359 - categorical_accuracy: 0.9242\n",
      "Epoch 478/500\n",
      "290/290 [==============================] - 5s 18ms/step - loss: 0.2576 - categorical_accuracy: 0.9385\n",
      "Epoch 479/500\n",
      "290/290 [==============================] - 5s 18ms/step - loss: 0.2382 - categorical_accuracy: 0.9429\n",
      "Epoch 480/500\n",
      "290/290 [==============================] - 5s 18ms/step - loss: 0.2276 - categorical_accuracy: 0.9446\n",
      "Epoch 481/500\n",
      "290/290 [==============================] - 5s 18ms/step - loss: 0.2262 - categorical_accuracy: 0.9453\n",
      "Epoch 482/500\n",
      "290/290 [==============================] - 5s 18ms/step - loss: 0.2229 - categorical_accuracy: 0.9462\n",
      "Epoch 483/500\n",
      "290/290 [==============================] - 5s 18ms/step - loss: 0.2341 - categorical_accuracy: 0.9439\n",
      "Epoch 484/500\n",
      "290/290 [==============================] - 5s 18ms/step - loss: 0.3623 - categorical_accuracy: 0.9184\n",
      "Epoch 485/500\n",
      "290/290 [==============================] - 5s 18ms/step - loss: 0.3120 - categorical_accuracy: 0.9245\n",
      "Epoch 486/500\n",
      "290/290 [==============================] - 5s 18ms/step - loss: 0.2483 - categorical_accuracy: 0.9401\n",
      "Epoch 487/500\n",
      "290/290 [==============================] - 5s 18ms/step - loss: 0.2880 - categorical_accuracy: 0.9343\n",
      "Epoch 488/500\n",
      "290/290 [==============================] - 5s 18ms/step - loss: 0.3639 - categorical_accuracy: 0.9169\n",
      "Epoch 489/500\n",
      "290/290 [==============================] - 5s 18ms/step - loss: 0.2629 - categorical_accuracy: 0.9395\n",
      "Epoch 490/500\n",
      "290/290 [==============================] - 5s 18ms/step - loss: 0.3129 - categorical_accuracy: 0.9282\n",
      "Epoch 491/500\n",
      "290/290 [==============================] - 5s 18ms/step - loss: 0.2456 - categorical_accuracy: 0.9414\n",
      "Epoch 492/500\n",
      "290/290 [==============================] - 6s 20ms/step - loss: 0.2425 - categorical_accuracy: 0.9419\n",
      "Epoch 493/500\n",
      "290/290 [==============================] - 6s 19ms/step - loss: 0.3284 - categorical_accuracy: 0.9236\n",
      "Epoch 494/500\n",
      "290/290 [==============================] - 5s 19ms/step - loss: 0.2786 - categorical_accuracy: 0.9327\n",
      "Epoch 495/500\n",
      "290/290 [==============================] - 5s 19ms/step - loss: 0.2973 - categorical_accuracy: 0.9293\n",
      "Epoch 496/500\n",
      "290/290 [==============================] - 6s 20ms/step - loss: 0.3196 - categorical_accuracy: 0.9263 0s - loss: 0.3205 - categorical_accuracy: 0.92\n",
      "Epoch 497/500\n"
     ]
    },
    {
     "name": "stdout",
     "output_type": "stream",
     "text": [
      "290/290 [==============================] - 6s 19ms/step - loss: 0.2307 - categorical_accuracy: 0.9448\n",
      "Epoch 498/500\n",
      "290/290 [==============================] - 5s 19ms/step - loss: 0.2269 - categorical_accuracy: 0.9460\n",
      "Epoch 499/500\n",
      "290/290 [==============================] - 5s 19ms/step - loss: 0.2261 - categorical_accuracy: 0.9456\n",
      "Epoch 500/500\n",
      "290/290 [==============================] - 5s 18ms/step - loss: 0.2727 - categorical_accuracy: 0.9336\n"
     ]
    },
    {
     "data": {
      "text/plain": [
       "<tensorflow.python.keras.callbacks.History at 0x23bb17f7488>"
      ]
     },
     "execution_count": 140,
     "metadata": {},
     "output_type": "execute_result"
    }
   ],
   "source": [
    " model.fit(X_train, y_train, epochs=500, callbacks=mycallbacks)"
   ]
  },
  {
   "cell_type": "code",
   "execution_count": 152,
   "id": "92e50d60",
   "metadata": {},
   "outputs": [
    {
     "name": "stdout",
     "output_type": "stream",
     "text": [
      "Model: \"sequential_2\"\n",
      "_________________________________________________________________\n",
      "Layer (type)                 Output Shape              Param #   \n",
      "=================================================================\n",
      "dense_20 (Dense)             (None, 15, 64)            8128      \n",
      "_________________________________________________________________\n",
      "dense_21 (Dense)             (None, 15, 64)            4160      \n",
      "_________________________________________________________________\n",
      "dense_22 (Dense)             (None, 15, 128)           8320      \n",
      "_________________________________________________________________\n",
      "dense_23 (Dense)             (None, 15, 256)           33024     \n",
      "_________________________________________________________________\n",
      "dense_24 (Dense)             (None, 15, 512)           131584    \n",
      "_________________________________________________________________\n",
      "dense_25 (Dense)             (None, 15, 1024)          525312    \n",
      "_________________________________________________________________\n",
      "dense_26 (Dense)             (None, 15, 1024)          1049600   \n",
      "_________________________________________________________________\n",
      "dense_27 (Dense)             (None, 15, 512)           524800    \n",
      "_________________________________________________________________\n",
      "dense_28 (Dense)             (None, 15, 256)           131328    \n",
      "_________________________________________________________________\n",
      "dense_29 (Dense)             (None, 15, 128)           32896     \n",
      "_________________________________________________________________\n",
      "dense_30 (Dense)             (None, 15, 64)            8256      \n",
      "_________________________________________________________________\n",
      "flatten_2 (Flatten)          (None, 960)               0         \n",
      "_________________________________________________________________\n",
      "dense_31 (Dense)             (None, 29)                27869     \n",
      "=================================================================\n",
      "Total params: 2,485,277\n",
      "Trainable params: 2,485,277\n",
      "Non-trainable params: 0\n",
      "_________________________________________________________________\n"
     ]
    }
   ],
   "source": [
    "model.summary()"
   ]
  },
  {
   "cell_type": "markdown",
   "id": "998d7500",
   "metadata": {},
   "source": [
    "# 13. Make prediction "
   ]
  },
  {
   "cell_type": "code",
   "execution_count": 153,
   "id": "ad0b5c0a",
   "metadata": {},
   "outputs": [],
   "source": [
    "res = model.predict(X_test)"
   ]
  },
  {
   "cell_type": "code",
   "execution_count": 154,
   "id": "a876184e",
   "metadata": {},
   "outputs": [
    {
     "data": {
      "text/plain": [
       "'nothing'"
      ]
     },
     "execution_count": 154,
     "metadata": {},
     "output_type": "execute_result"
    }
   ],
   "source": [
    "categories[np.argmax(res[0])]"
   ]
  },
  {
   "cell_type": "code",
   "execution_count": 155,
   "id": "dc1c899b",
   "metadata": {},
   "outputs": [
    {
     "data": {
      "text/plain": [
       "'nothing'"
      ]
     },
     "execution_count": 155,
     "metadata": {},
     "output_type": "execute_result"
    }
   ],
   "source": [
    "categories[np.argmax(y_test[0])]"
   ]
  },
  {
   "cell_type": "markdown",
   "id": "e6514731",
   "metadata": {},
   "source": [
    "# 14. Save Model"
   ]
  },
  {
   "cell_type": "code",
   "execution_count": 156,
   "id": "d504a092",
   "metadata": {},
   "outputs": [],
   "source": [
    "# model.save('model26April.h5')"
   ]
  },
  {
   "cell_type": "markdown",
   "id": "7ec311a7",
   "metadata": {},
   "source": [
    "# Load Model"
   ]
  },
  {
   "cell_type": "code",
   "execution_count": 157,
   "id": "7d83af27",
   "metadata": {},
   "outputs": [],
   "source": [
    "model.load_weights('model26April.h5')"
   ]
  },
  {
   "cell_type": "markdown",
   "id": "7af0bd42",
   "metadata": {},
   "source": [
    "# 15. Evaluation using Confusion Matrix and Accuracy\n"
   ]
  },
  {
   "cell_type": "code",
   "execution_count": 158,
   "id": "6957b06a",
   "metadata": {},
   "outputs": [],
   "source": [
    "from sklearn.metrics import multilabel_confusion_matrix, accuracy_score"
   ]
  },
  {
   "cell_type": "code",
   "execution_count": 159,
   "id": "df109360",
   "metadata": {},
   "outputs": [],
   "source": [
    "yhat = model.predict(X_test)"
   ]
  },
  {
   "cell_type": "code",
   "execution_count": 160,
   "id": "a5506f7f",
   "metadata": {},
   "outputs": [],
   "source": [
    "ytrue = np.argmax(y_test, axis=1).tolist()\n",
    "yhat = np.argmax(yhat, axis=1).tolist()"
   ]
  },
  {
   "cell_type": "code",
   "execution_count": 161,
   "id": "83e97d31",
   "metadata": {},
   "outputs": [
    {
     "data": {
      "text/plain": [
       "array([[[2227,   11],\n",
       "        [  14,   68]],\n",
       "\n",
       "       [[2228,    4],\n",
       "        [   2,   86]],\n",
       "\n",
       "       [[2250,    3],\n",
       "        [  10,   57]],\n",
       "\n",
       "       [[2254,    3],\n",
       "        [   3,   60]],\n",
       "\n",
       "       [[2234,    1],\n",
       "        [  16,   69]],\n",
       "\n",
       "       [[2246,    2],\n",
       "        [   4,   68]],\n",
       "\n",
       "       [[2243,    1],\n",
       "        [   1,   75]],\n",
       "\n",
       "       [[2246,    0],\n",
       "        [   6,   68]],\n",
       "\n",
       "       [[2234,    4],\n",
       "        [  12,   70]],\n",
       "\n",
       "       [[2245,    1],\n",
       "        [   5,   69]],\n",
       "\n",
       "       [[2253,    2],\n",
       "        [   5,   60]],\n",
       "\n",
       "       [[2247,    1],\n",
       "        [   0,   72]],\n",
       "\n",
       "       [[2238,   11],\n",
       "        [   8,   63]],\n",
       "\n",
       "       [[2235,    4],\n",
       "        [  17,   64]],\n",
       "\n",
       "       [[2230,    6],\n",
       "        [  13,   71]],\n",
       "\n",
       "       [[2227,    3],\n",
       "        [  13,   77]],\n",
       "\n",
       "       [[2240,    2],\n",
       "        [   7,   71]],\n",
       "\n",
       "       [[2240,    2],\n",
       "        [  11,   67]],\n",
       "\n",
       "       [[2221,   10],\n",
       "        [  14,   75]],\n",
       "\n",
       "       [[2236,    4],\n",
       "        [   5,   75]],\n",
       "\n",
       "       [[2232,    8],\n",
       "        [  21,   59]],\n",
       "\n",
       "       [[2215,   12],\n",
       "        [   8,   85]],\n",
       "\n",
       "       [[2228,    2],\n",
       "        [   3,   87]],\n",
       "\n",
       "       [[2233,    2],\n",
       "        [  16,   69]],\n",
       "\n",
       "       [[2235,    1],\n",
       "        [   3,   81]],\n",
       "\n",
       "       [[2229,    5],\n",
       "        [   8,   78]],\n",
       "\n",
       "       [[2230,    7],\n",
       "        [  10,   73]],\n",
       "\n",
       "       [[2230,    7],\n",
       "        [  13,   70]],\n",
       "\n",
       "       [[2106,  129],\n",
       "        [   0,   85]]], dtype=int64)"
      ]
     },
     "execution_count": 161,
     "metadata": {},
     "output_type": "execute_result"
    }
   ],
   "source": [
    "multilabel_confusion_matrix(ytrue, yhat)"
   ]
  },
  {
   "cell_type": "code",
   "execution_count": 162,
   "id": "629f72b6",
   "metadata": {},
   "outputs": [
    {
     "data": {
      "text/plain": [
       "0.8931034482758621"
      ]
     },
     "execution_count": 162,
     "metadata": {},
     "output_type": "execute_result"
    }
   ],
   "source": [
    "accuracy_score(ytrue, yhat)"
   ]
  },
  {
   "cell_type": "markdown",
   "id": "c0f11bf8",
   "metadata": {},
   "source": [
    "# 16. Testing in real Time"
   ]
  },
  {
   "cell_type": "code",
   "execution_count": 169,
   "id": "89be8859",
   "metadata": {},
   "outputs": [],
   "source": [
    "colors = [(245,117,16), (117,245,16), (16,117,245),(166,107,245),(106,167,245),(106,117,205),(161,107,25),(130,187,245),(106,117,205),(106,100,245),(196,107,245), (117,245,16), (16,117,245),(245,117,16), (117,245,16), (16,117,245),(166,107,245),(106,167,245),(106,117,205),(161,107,25),(130,187,245),(106,117,205),(106,100,245),(196,107,245), (117,245,16), (16,117,245),(245,117,16), (117,245,16), (16,117,245)]\n",
    "# def prob_viz(res, actions, input_frame, colors):\n",
    "#     output_frame = input_frame.copy()\n",
    "#     for num, prob in enumerate(res):\n",
    "#         if prob > 90:\n",
    "#             cv2.rectangle(output_frame, (0,60+num*40), (int(prob*100), 90+num*40), colors[num], -1)\n",
    "#             cv2.putText(output_frame, actions[num], (0, 85+num*40), cv2.FONT_HERSHEY_SIMPLEX, 1, (0,0,255), 2, cv2.LINE_AA)\n",
    "#     return output_frame"
   ]
  },
  {
   "cell_type": "code",
   "execution_count": 170,
   "id": "5b7b502f",
   "metadata": {},
   "outputs": [],
   "source": [
    "def prob_viz(res, actions,input_frame):\n",
    "    output_frame = input_frame.copy()\n",
    "    if res[np.argmax(res)] > 0.9:\n",
    "        cv2.putText(output_frame,actions[np.argmax(res)], (200,300), cv2.FONT_HERSHEY_SIMPLEX,4, (0, 0, 255), 2, cv2.LINE_AA)\n",
    "    return output_frame"
   ]
  },
  {
   "cell_type": "code",
   "execution_count": 171,
   "id": "c7b5ced9",
   "metadata": {},
   "outputs": [],
   "source": [
    "back = cv2.imread('board1.jpg')\n",
    "back = cv2.resize(back,(600,600))\n",
    "# cv2.imshow('back',back)\n",
    "# cv2.waitKey(0)\n",
    "# cv2.destroyAllWindows()"
   ]
  },
  {
   "cell_type": "code",
   "execution_count": 172,
   "id": "3dbae4a5",
   "metadata": {},
   "outputs": [],
   "source": [
    "categoriesLatest = np.array(['A','B','C','D','E','F','G','H','I','J','K','L','M','N','O','P','Q','R','S','T','U','V','W','X','Y','Z','d',' ','n'])"
   ]
  },
  {
   "cell_type": "code",
   "execution_count": 173,
   "id": "be21bea3",
   "metadata": {},
   "outputs": [],
   "source": [
    "# # 1. New detection variables mode1\n",
    "# import time\n",
    "# sequence = []\n",
    "# sentence = []\n",
    "# threshold = 0.9\n",
    "\n",
    "# cap = cv2.VideoCapture(0)\n",
    "# started = False\n",
    "# # Set mediapipe model \n",
    "# with mpHands.Hands() as hand:\n",
    "#     i = 20\n",
    "#     j = 26\n",
    "#     back2 = cv2.imread('board1.jpg')\n",
    "#     back2 = cv2.resize(back,(600,600))\n",
    "#     while cap.isOpened():\n",
    "#         current_time = time.time()\n",
    "#         board = back\n",
    "#         # Read feed\n",
    "#         ret, frame = cap.read()\n",
    "#         # Make detections\n",
    "#         image, results = mediapipe_detection(frame,hand)\n",
    "\n",
    "        \n",
    "#         # Draw landmarks\n",
    "#         draw_landmarks(image, results)\n",
    "#         # 2. Prediction logic\n",
    "#         keypoints = extract_keypoints(results)\n",
    "\n",
    "#         sequence.append(keypoints)\n",
    "# #         print(sequence)\n",
    "#         sequence = sequence[-15:]\n",
    "# #         print(sequence)\n",
    "        \n",
    "#         if len(sequence) == 15:\n",
    "#             res = model.predict(np.expand_dims(sequence, axis=0))[0]\n",
    "#         #3. Viz logic\n",
    "#             if res[np.argmax(res)] > threshold: \n",
    "#                 casl = categoriesLatest[np.argmax(res)]\n",
    "#                 if len(sentence) <= 0 or ( casl != 'n' and casl != sentence[-1]):\n",
    "#                     cv2.putText(back2,casl, (i,j), cv2.FONT_HERSHEY_SIMPLEX, 1, (0, 0, 255), 2, cv2.LINE_AA)\n",
    "#                     if i <= 20 and  started:\n",
    "#                         j = j + 26\n",
    "#                     i = (i + 20)%500\n",
    "#                     if i == 0:\n",
    "#                         i = 20\n",
    "#                     started = True\n",
    "#                 if len(sentence) > 0: \n",
    "#                     if categories[np.argmax(res)] != sentence[-1]:\n",
    "#                         sentence.append(categoriesLatest[np.argmax(res)])\n",
    "#                 else:\n",
    "#                     sentence.append(categoriesLatest[np.argmax(res)]) \n",
    "\n",
    "#             if len(sentence) > 10: \n",
    "#                 sentence = sentence[-20:]\n",
    "\n",
    "#             # Viz probabilities\n",
    "#             board = prob_viz(res, categories,board)\n",
    "            \n",
    "        \n",
    "#         # Show to screen\n",
    "#         cv2.imshow('OpenCV Feed', image)\n",
    "#         cv2.imshow('viz',board)\n",
    "#         cv2.imshow('Text Converter',back2)\n",
    "\n",
    "#         # Break gracefully\n",
    "#         if cv2.waitKey(1) & 0xFF == ord('q'):\n",
    "#             break\n",
    "\n",
    "#     cap.release()\n",
    "#     cv2.destroyAllWindows()"
   ]
  },
  {
   "cell_type": "code",
   "execution_count": 65,
   "id": "86a12840",
   "metadata": {},
   "outputs": [],
   "source": [
    "# 1. New detection variables mode 2\n",
    "import time\n",
    "sequence = []\n",
    "sentence = []\n",
    "threshold = 0.9\n",
    "time_frame = []\n",
    "cap = cv2.VideoCapture(0)\n",
    "started = False\n",
    "# Set mediapipe model \n",
    "with mpHands.Hands() as hand:\n",
    "    i = 20\n",
    "    j = 26\n",
    "    back2 = cv2.imread('board1.jpg')\n",
    "    back2 = cv2.resize(back,(600,600))\n",
    "    while cap.isOpened():\n",
    "        \n",
    "        board = back\n",
    "        # Read feed\n",
    "        ret, frame = cap.read()\n",
    "        # Make detections\n",
    "        image, results = mediapipe_detection(frame,hand)\n",
    "\n",
    "        \n",
    "        # Draw landmarks\n",
    "        draw_landmarks(image, results)\n",
    "        # 2. Prediction logic\n",
    "        keypoints = extract_keypoints(results)\n",
    "\n",
    "        sequence.append(keypoints)\n",
    "#         print(sequence)\n",
    "        sequence = sequence[-15:]\n",
    "#         print(sequence)\n",
    "        \n",
    "        if len(sequence) == 15:\n",
    "            res = model.predict(np.expand_dims(sequence, axis=0))[0]\n",
    "        #3. Viz logic\n",
    "            if res[np.argmax(res)] > threshold: \n",
    "                casl = categoriesLatest[np.argmax(res)]\n",
    "                if casl != 'n' and (cv2.waitKey(1) & 0xFF == ord('v')) :\n",
    "                    cv2.putText(back2,casl, (i,j), cv2.FONT_HERSHEY_SIMPLEX, 1, (0, 0, 255), 2, cv2.LINE_AA)\n",
    "                    if i <= 20 and  started:\n",
    "                        j = j + 26\n",
    "                    i = (i + 20)%500\n",
    "                    if i == 0:\n",
    "                        i = 20\n",
    "                    started = True\n",
    "\n",
    "            # Viz probabilities\n",
    "            board = prob_viz(res, categories,board)\n",
    "        # Show to screen\n",
    "        cv2.imshow('OpenCV Feed', image)\n",
    "        cv2.imshow('viz',board)\n",
    "        cv2.imshow('Text Converter',back2)\n",
    "\n",
    "        # Break gracefully\n",
    "        if cv2.waitKey(1) & 0xFF == ord('q'):\n",
    "            break\n",
    "\n",
    "    cap.release()\n",
    "    cv2.destroyAllWindows()"
   ]
  },
  {
   "cell_type": "code",
   "execution_count": 1,
   "id": "81c3bc19",
   "metadata": {},
   "outputs": [
    {
     "ename": "NameError",
     "evalue": "name 'cv2' is not defined",
     "output_type": "error",
     "traceback": [
      "\u001b[1;31m---------------------------------------------------------------------------\u001b[0m",
      "\u001b[1;31mNameError\u001b[0m                                 Traceback (most recent call last)",
      "\u001b[1;32m<ipython-input-1-58691b4d5265>\u001b[0m in \u001b[0;36m<module>\u001b[1;34m\u001b[0m\n\u001b[0;32m      5\u001b[0m \u001b[0mthreshold\u001b[0m \u001b[1;33m=\u001b[0m \u001b[1;36m0.90\u001b[0m\u001b[1;33m\u001b[0m\u001b[1;33m\u001b[0m\u001b[0m\n\u001b[0;32m      6\u001b[0m \u001b[1;33m\u001b[0m\u001b[0m\n\u001b[1;32m----> 7\u001b[1;33m \u001b[0mcap\u001b[0m \u001b[1;33m=\u001b[0m \u001b[0mcv2\u001b[0m\u001b[1;33m.\u001b[0m\u001b[0mVideoCapture\u001b[0m\u001b[1;33m(\u001b[0m\u001b[1;36m0\u001b[0m\u001b[1;33m)\u001b[0m\u001b[1;33m\u001b[0m\u001b[1;33m\u001b[0m\u001b[0m\n\u001b[0m\u001b[0;32m      8\u001b[0m \u001b[0mstarted\u001b[0m \u001b[1;33m=\u001b[0m \u001b[1;32mFalse\u001b[0m\u001b[1;33m\u001b[0m\u001b[1;33m\u001b[0m\u001b[0m\n\u001b[0;32m      9\u001b[0m \u001b[1;31m# Set mediapipe model\u001b[0m\u001b[1;33m\u001b[0m\u001b[1;33m\u001b[0m\u001b[1;33m\u001b[0m\u001b[0m\n",
      "\u001b[1;31mNameError\u001b[0m: name 'cv2' is not defined"
     ]
    }
   ],
   "source": [
    "# 1. New detection variables\n",
    "\n",
    "sequence = []\n",
    "sentence = []\n",
    "threshold = 0.90\n",
    "\n",
    "cap = cv2.VideoCapture(0)\n",
    "started = False\n",
    "# Set mediapipe model\n",
    "pred_count = {'count':0,'symbol':'n'}\n",
    "prev_symbol = 'n'\n",
    "with mpHands.Hands() as hand:\n",
    "    i = 20\n",
    "    j = 26\n",
    "    back2 = cv2.imread('board1.jpg')\n",
    "    back2 = cv2.resize(back,(600,600))\n",
    "    while cap.isOpened():\n",
    "        \n",
    "        board = back\n",
    "        # Read feed\n",
    "        ret, frame = cap.read()\n",
    "        # Make detections\n",
    "        image, results = mediapipe_detection(frame,hand)\n",
    "\n",
    "        \n",
    "        # Draw landmarks\n",
    "        draw_landmarks(image, results)\n",
    "        # 2. Prediction logic\n",
    "        keypoints = extract_keypoints(results)\n",
    "\n",
    "        sequence.append(keypoints)\n",
    "#         print(sequence)\n",
    "        sequence = sequence[-15:]\n",
    "#         print(sequence)\n",
    "        \n",
    "        if len(sequence) == 15:\n",
    "            res = model.predict(np.expand_dims(sequence, axis=0))[0]\n",
    "        #3. Viz logic\n",
    "            if res[np.argmax(res)] > threshold: \n",
    "                casl = categoriesLatest[np.argmax(res)]\n",
    "                if casl == pred_count['symbol']:\n",
    "                    pred_count['count'] += 1\n",
    "                else:\n",
    "                    pred_count['symbol'] = casl\n",
    "                    pred_count['count'] = 0\n",
    "                if ( casl != 'n'  and pred_count['count'] >= 10 ):\n",
    "                    cv2.putText(back2,casl, (i,j), cv2.FONT_HERSHEY_SIMPLEX, 1, (0, 0, 255), 2, cv2.LINE_AA)\n",
    "                    if i <= 20 and  started:\n",
    "                        j = j + 26\n",
    "                    i = (i + 20)%500\n",
    "                    if i == 0:\n",
    "                        i = 20\n",
    "                    started = True\n",
    "                    pred_count['count'] = 0\n",
    "\n",
    "            print(pred_count)\n",
    "\n",
    "\n",
    "            # Viz probabilities\n",
    "            board = prob_viz(res, categories,board, colors)\n",
    "            \n",
    "\n",
    "        \n",
    "        # Show to screen\n",
    "        cv2.imshow('OpenCV Feed', image)\n",
    "        cv2.imshow('viz',board)\n",
    "        cv2.imshow('Text Converter',back2)\n",
    "\n",
    "        # Break gracefully\n",
    "        if cv2.waitKey(1) & 0xFF == ord('q'):\n",
    "            break\n",
    "\n",
    "\n",
    "    cap.release()\n",
    "    cv2.destroyAllWindows()"
   ]
  },
  {
   "cell_type": "code",
   "execution_count": 51,
   "id": "d8f6c59d",
   "metadata": {},
   "outputs": [],
   "source": [
    "cv2.destroyAllWindows()\n",
    "cap.release()"
   ]
  },
  {
   "cell_type": "code",
   "execution_count": 24,
   "id": "ced29b01",
   "metadata": {},
   "outputs": [
    {
     "data": {
      "text/plain": [
       "(480, 640, 3)"
      ]
     },
     "execution_count": 24,
     "metadata": {},
     "output_type": "execute_result"
    }
   ],
   "source": [
    "np.shape(frame)"
   ]
  },
  {
   "cell_type": "code",
   "execution_count": 25,
   "id": "c7d27a09",
   "metadata": {},
   "outputs": [
    {
     "data": {
      "text/plain": [
       "{'count': 39, 'symbol': 'C'}"
      ]
     },
     "execution_count": 25,
     "metadata": {},
     "output_type": "execute_result"
    }
   ],
   "source": [
    "pred_count"
   ]
  },
  {
   "cell_type": "code",
   "execution_count": 57,
   "id": "560998d3",
   "metadata": {},
   "outputs": [],
   "source": [
    "key = cv2.waitKey(10) & 0xFF"
   ]
  },
  {
   "cell_type": "code",
   "execution_count": 58,
   "id": "b04795da",
   "metadata": {},
   "outputs": [
    {
     "ename": "KeyboardInterrupt",
     "evalue": "",
     "output_type": "error",
     "traceback": [
      "\u001b[1;31m---------------------------------------------------------------------------\u001b[0m",
      "\u001b[1;31mKeyboardInterrupt\u001b[0m                         Traceback (most recent call last)",
      "\u001b[1;32m<ipython-input-58-fb53f5b62aff>\u001b[0m in \u001b[0;36m<module>\u001b[1;34m\u001b[0m\n\u001b[0;32m      2\u001b[0m \u001b[0mback\u001b[0m \u001b[1;33m=\u001b[0m \u001b[0mcv2\u001b[0m\u001b[1;33m.\u001b[0m\u001b[0mresize\u001b[0m\u001b[1;33m(\u001b[0m\u001b[0mback\u001b[0m\u001b[1;33m,\u001b[0m\u001b[1;33m(\u001b[0m\u001b[1;36m600\u001b[0m\u001b[1;33m,\u001b[0m\u001b[1;36m600\u001b[0m\u001b[1;33m)\u001b[0m\u001b[1;33m)\u001b[0m\u001b[1;33m\u001b[0m\u001b[1;33m\u001b[0m\u001b[0m\n\u001b[0;32m      3\u001b[0m \u001b[1;32mwhile\u001b[0m \u001b[1;32mTrue\u001b[0m\u001b[1;33m:\u001b[0m\u001b[1;33m\u001b[0m\u001b[1;33m\u001b[0m\u001b[0m\n\u001b[1;32m----> 4\u001b[1;33m     \u001b[0mcv2\u001b[0m\u001b[1;33m.\u001b[0m\u001b[0mimshow\u001b[0m\u001b[1;33m(\u001b[0m\u001b[1;34m'back'\u001b[0m\u001b[1;33m,\u001b[0m\u001b[0mback\u001b[0m\u001b[1;33m)\u001b[0m\u001b[1;33m\u001b[0m\u001b[1;33m\u001b[0m\u001b[0m\n\u001b[0m\u001b[0;32m      5\u001b[0m     \u001b[1;32mif\u001b[0m \u001b[0mkey\u001b[0m \u001b[1;33m==\u001b[0m \u001b[0mord\u001b[0m\u001b[1;33m(\u001b[0m\u001b[1;34m'q'\u001b[0m\u001b[1;33m)\u001b[0m\u001b[1;33m:\u001b[0m\u001b[1;33m\u001b[0m\u001b[1;33m\u001b[0m\u001b[0m\n\u001b[0;32m      6\u001b[0m         \u001b[1;32mbreak\u001b[0m\u001b[1;33m\u001b[0m\u001b[1;33m\u001b[0m\u001b[0m\n",
      "\u001b[1;31mKeyboardInterrupt\u001b[0m: "
     ]
    }
   ],
   "source": [
    "back = cv2.imread('board1.jpg')\n",
    "back = cv2.resize(back,(600,600))\n",
    "while True:\n",
    "    cv2.imshow('back',back)\n",
    "    if key == ord('q'):\n",
    "        break\n",
    "cv2.destroyAllWindows()"
   ]
  },
  {
   "cell_type": "code",
   "execution_count": 59,
   "id": "dae1bb48",
   "metadata": {},
   "outputs": [],
   "source": [
    "cv2.destroyAllWindows()"
   ]
  },
  {
   "cell_type": "code",
   "execution_count": null,
   "id": "0936ae17",
   "metadata": {},
   "outputs": [],
   "source": []
  }
 ],
 "metadata": {
  "kernelspec": {
   "display_name": "Python 3 (ipykernel)",
   "language": "python",
   "name": "python3"
  },
  "language_info": {
   "codemirror_mode": {
    "name": "ipython",
    "version": 3
   },
   "file_extension": ".py",
   "mimetype": "text/x-python",
   "name": "python",
   "nbconvert_exporter": "python",
   "pygments_lexer": "ipython3",
   "version": "3.9.7"
  }
 },
 "nbformat": 4,
 "nbformat_minor": 5
}
